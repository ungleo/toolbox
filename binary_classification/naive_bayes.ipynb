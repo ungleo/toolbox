{
 "cells": [
  {
   "cell_type": "markdown",
   "metadata": {},
   "source": [
    "### https://www.datacamp.com/community/tutorials/naive-bayes-scikit-learn\n",
    "Naive Bayes is a statistical classification technique based on Bayes Theorem. \n",
    "It is one of the **simplest supervised learning algorithms**. \n",
    "Naive Bayes classifier is the fast, accurate and reliable algorithm. \n",
    "Naive Bayes classifiers **have high accuracy and speed on large datasets**.\n",
    "\n",
    "Naive Bayes classifier **assumes** that the effect of a particular feature in a class is **independent** of other features.-> por esto se llama Naive"
   ]
  },
  {
   "cell_type": "code",
   "execution_count": 1,
   "metadata": {},
   "outputs": [],
   "source": [
    "# Import LabelEncoder\n",
    "from sklearn import preprocessing\n",
    "from sklearn.naive_bayes import GaussianNB\n",
    "import pandas as pd"
   ]
  },
  {
   "cell_type": "code",
   "execution_count": 2,
   "metadata": {},
   "outputs": [],
   "source": [
    "# Assigning features and label variables\n",
    "weather=['Sunny','Sunny','Overcast','Rainy','Rainy','Rainy','Overcast','Sunny','Sunny',\n",
    "'Rainy','Sunny','Overcast','Overcast','Rainy']\n",
    "temp=['Hot','Hot','Hot','Mild','Cool','Cool','Cool','Mild','Cool','Mild','Mild','Mild','Hot','Mild']\n",
    "\n",
    "play=['No','No','Yes','Yes','Yes','No','Yes','No','Yes','Yes','Yes','Yes','Yes','No']"
   ]
  },
  {
   "cell_type": "code",
   "execution_count": 3,
   "metadata": {},
   "outputs": [
    {
     "name": "stdout",
     "output_type": "stream",
     "text": [
      "     weather  temp play\n",
      "0      Sunny   Hot   No\n",
      "1      Sunny   Hot   No\n",
      "2   Overcast   Hot  Yes\n",
      "3      Rainy  Mild  Yes\n",
      "4      Rainy  Cool  Yes\n",
      "5      Rainy  Cool   No\n",
      "6   Overcast  Cool  Yes\n",
      "7      Sunny  Mild   No\n",
      "8      Sunny  Cool  Yes\n",
      "9      Rainy  Mild  Yes\n",
      "10     Sunny  Mild  Yes\n",
      "11  Overcast  Mild  Yes\n",
      "12  Overcast   Hot  Yes\n",
      "13     Rainy  Mild   No\n"
     ]
    }
   ],
   "source": [
    "data = {'weather':weather,\n",
    "         'temp':temp,\n",
    "        'play':play}\n",
    "df_ini = pd.DataFrame(data)\n",
    "print(df_ini)"
   ]
  },
  {
   "cell_type": "code",
   "execution_count": 4,
   "metadata": {},
   "outputs": [
    {
     "name": "stdout",
     "output_type": "stream",
     "text": [
      "[2 2 0 1 1 1 0 2 2 1 2 0 0 1]\n"
     ]
    }
   ],
   "source": [
    "#creating labelEncoder\n",
    "le = preprocessing.LabelEncoder()\n",
    "# Converting string labels into numbers.\n",
    "weather_encoded=le.fit_transform(weather)\n",
    "print(weather_encoded)"
   ]
  },
  {
   "cell_type": "code",
   "execution_count": 5,
   "metadata": {},
   "outputs": [
    {
     "name": "stdout",
     "output_type": "stream",
     "text": [
      "Temp: [1 1 1 2 0 0 0 2 0 2 2 2 1 2]\n",
      "Play: [0 0 1 1 1 0 1 0 1 1 1 1 1 0]\n"
     ]
    }
   ],
   "source": [
    "# Converting string labels into numbers\n",
    "temp_encoded=le.fit_transform(temp)\n",
    "label=le.fit_transform(play)\n",
    "print (\"Temp:\",temp_encoded)\n",
    "print (\"Play:\",label)"
   ]
  },
  {
   "cell_type": "code",
   "execution_count": 6,
   "metadata": {},
   "outputs": [
    {
     "name": "stdout",
     "output_type": "stream",
     "text": [
      "    weather  temp  play\n",
      "0         2     2     0\n",
      "1         2     2     0\n",
      "2         0     0     1\n",
      "3         1     1     1\n",
      "4         1     1     1\n",
      "5         1     1     0\n",
      "6         0     0     1\n",
      "7         2     2     0\n",
      "8         2     2     1\n",
      "9         1     1     1\n",
      "10        2     2     1\n",
      "11        0     0     1\n",
      "12        0     0     1\n",
      "13        1     1     0\n"
     ]
    }
   ],
   "source": [
    "data_encoded = {'weather':weather_encoded,\n",
    "                'temp':weather_encoded,\n",
    "                'play':label}\n",
    "df_encoded = pd.DataFrame(data_encoded)\n",
    "print(df_encoded)"
   ]
  },
  {
   "cell_type": "markdown",
   "metadata": {},
   "source": [
    "# train"
   ]
  },
  {
   "cell_type": "code",
   "execution_count": 7,
   "metadata": {},
   "outputs": [
    {
     "data": {
      "text/plain": [
       "GaussianNB(priors=None, var_smoothing=1e-09)"
      ]
     },
     "execution_count": 7,
     "metadata": {},
     "output_type": "execute_result"
    }
   ],
   "source": [
    "#Create a Gaussian Classifier\n",
    "model = GaussianNB()\n",
    "\n",
    "# Train the model using the training sets\n",
    "model.fit(df_encoded[['weather','temp']],df_encoded.play)"
   ]
  },
  {
   "cell_type": "code",
   "execution_count": 8,
   "metadata": {},
   "outputs": [
    {
     "name": "stdout",
     "output_type": "stream",
     "text": [
      "Predicted Value: [1]\n"
     ]
    }
   ],
   "source": [
    "\n",
    "#Predict Output\n",
    "predicted= model.predict([[0,2]]) # 0:Overcast, 2:Mild\n",
    "print (\"Predicted Value:\", predicted)"
   ]
  }
 ],
 "metadata": {
  "kernelspec": {
   "display_name": "Python 3",
   "language": "python",
   "name": "python3"
  },
  "language_info": {
   "codemirror_mode": {
    "name": "ipython",
    "version": 3
   },
   "file_extension": ".py",
   "mimetype": "text/x-python",
   "name": "python",
   "nbconvert_exporter": "python",
   "pygments_lexer": "ipython3",
   "version": "3.7.4"
  }
 },
 "nbformat": 4,
 "nbformat_minor": 4
}
