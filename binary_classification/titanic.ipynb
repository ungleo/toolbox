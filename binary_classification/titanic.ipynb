{
 "cells": [
  {
   "cell_type": "code",
   "execution_count": null,
   "metadata": {},
   "outputs": [],
   "source": [
    "# https://csaybar.github.io/blog/2019/05/19/titanic/"
   ]
  },
  {
   "cell_type": "code",
   "execution_count": 1,
   "metadata": {},
   "outputs": [
    {
     "name": "stdout",
     "output_type": "stream",
     "text": [
      "Requirement already satisfied: lightgbm in /usr/local/lib/python3.7/site-packages (3.0.0)\n",
      "Requirement already satisfied: numpy in /usr/local/lib/python3.7/site-packages (from lightgbm) (1.19.1)\n",
      "Requirement already satisfied: scipy in /usr/local/lib/python3.7/site-packages (from lightgbm) (1.5.2)\n",
      "Requirement already satisfied: scikit-learn!=0.22.0 in /usr/local/lib/python3.7/site-packages (from lightgbm) (0.21.1)\n",
      "Requirement already satisfied: joblib>=0.11 in /usr/local/lib/python3.7/site-packages (from scikit-learn!=0.22.0->lightgbm) (0.16.0)\n",
      "\u001b[33mWARNING: You are using pip version 20.1.1; however, version 20.2.3 is available.\n",
      "You should consider upgrading via the '/usr/local/bin/python -m pip install --upgrade pip' command.\u001b[0m\n",
      "Requirement already satisfied: bayesian-optimization in /usr/local/lib/python3.7/site-packages (1.2.0)\n",
      "Requirement already satisfied: scipy>=0.14.0 in /usr/local/lib/python3.7/site-packages (from bayesian-optimization) (1.5.2)\n",
      "Requirement already satisfied: scikit-learn>=0.18.0 in /usr/local/lib/python3.7/site-packages (from bayesian-optimization) (0.21.1)\n",
      "Requirement already satisfied: numpy>=1.9.0 in /usr/local/lib/python3.7/site-packages (from bayesian-optimization) (1.19.1)\n",
      "Requirement already satisfied: joblib>=0.11 in /usr/local/lib/python3.7/site-packages (from scikit-learn>=0.18.0->bayesian-optimization) (0.16.0)\n",
      "\u001b[33mWARNING: You are using pip version 20.1.1; however, version 20.2.3 is available.\n",
      "You should consider upgrading via the '/usr/local/bin/python -m pip install --upgrade pip' command.\u001b[0m\n"
     ]
    }
   ],
   "source": [
    "!pip3 install lightgbm\n",
    "!pip3 install bayesian-optimization"
   ]
  },
  {
   "cell_type": "code",
   "execution_count": 2,
   "metadata": {},
   "outputs": [],
   "source": [
    "\n",
    "import sklearn\n",
    "from sklearn.model_selection import train_test_split\n",
    "import joblib\n",
    "from sklearn.metrics import accuracy_score\n",
    "from sklearn.metrics import classification_report\n",
    "from sklearn.metrics import confusion_matrix\n",
    "from sklearn.metrics import roc_curve\n",
    "from sklearn.metrics import mean_squared_log_error\n",
    "from sklearn.metrics import roc_auc_score\n",
    "from sklearn.ensemble import RandomForestRegressor\n",
    "from sklearn.preprocessing import StandardScaler\n",
    "from sklearn import metrics\n",
    "from sklearn.preprocessing import LabelEncoder\n",
    "\n",
    "import seaborn as sns\n",
    "import matplotlib.pyplot as plt\n",
    "import lightgbm as lgb\n",
    "import numpy as np\n",
    "\n",
    "import urllib\n",
    "\n",
    "import pandas as pd"
   ]
  },
  {
   "cell_type": "code",
   "execution_count": 3,
   "metadata": {},
   "outputs": [],
   "source": [
    "%load_ext autoreload\n",
    "%autoreload 2"
   ]
  },
  {
   "cell_type": "code",
   "execution_count": 4,
   "metadata": {},
   "outputs": [],
   "source": [
    "import sys\n",
    "sys.path.append('/alloc/data/fury_fda-general-analysis/') # nombre de la ruta\n",
    "from commons.modelling_tools import clean_dataset, bayes_parameter_opt_lgb\n",
    "import commons.metrics as met\n"
   ]
  },
  {
   "cell_type": "markdown",
   "metadata": {},
   "source": [
    "# read data"
   ]
  },
  {
   "cell_type": "code",
   "execution_count": 5,
   "metadata": {},
   "outputs": [],
   "source": [
    "# Download the dataset\n",
    "url = 'https://raw.githubusercontent.com/csaybar/Titanic/master/'\n",
    "urllib.request.urlretrieve(url+'train.csv', 'train.csv')\n",
    "urllib.request.urlretrieve(url+'test.csv', 'test.csv')\n",
    "\n",
    "#Let’s read in and take a peek at the data.\n",
    "basedataset = pd.read_csv('train.csv')\n",
    "dataset_valid =  pd.read_csv('test.csv')"
   ]
  },
  {
   "cell_type": "code",
   "execution_count": 6,
   "metadata": {},
   "outputs": [],
   "source": [
    "basedataset.rename(columns={'Survived': 'target'}, inplace=True)"
   ]
  },
  {
   "cell_type": "code",
   "execution_count": 7,
   "metadata": {},
   "outputs": [
    {
     "data": {
      "text/html": [
       "<div>\n",
       "<style scoped>\n",
       "    .dataframe tbody tr th:only-of-type {\n",
       "        vertical-align: middle;\n",
       "    }\n",
       "\n",
       "    .dataframe tbody tr th {\n",
       "        vertical-align: top;\n",
       "    }\n",
       "\n",
       "    .dataframe thead th {\n",
       "        text-align: right;\n",
       "    }\n",
       "</style>\n",
       "<table border=\"1\" class=\"dataframe\">\n",
       "  <thead>\n",
       "    <tr style=\"text-align: right;\">\n",
       "      <th></th>\n",
       "      <th>target</th>\n",
       "      <th>PassengerId</th>\n",
       "    </tr>\n",
       "  </thead>\n",
       "  <tbody>\n",
       "    <tr>\n",
       "      <th>0</th>\n",
       "      <td>0</td>\n",
       "      <td>549</td>\n",
       "    </tr>\n",
       "    <tr>\n",
       "      <th>1</th>\n",
       "      <td>1</td>\n",
       "      <td>342</td>\n",
       "    </tr>\n",
       "  </tbody>\n",
       "</table>\n",
       "</div>"
      ],
      "text/plain": [
       "   target  PassengerId\n",
       "0       0          549\n",
       "1       1          342"
      ]
     },
     "execution_count": 7,
     "metadata": {},
     "output_type": "execute_result"
    }
   ],
   "source": [
    "basedataset.groupby(['target'], as_index=False).agg({\"PassengerId\":\"count\"})"
   ]
  },
  {
   "cell_type": "code",
   "execution_count": 8,
   "metadata": {},
   "outputs": [
    {
     "data": {
      "text/html": [
       "<div>\n",
       "<style scoped>\n",
       "    .dataframe tbody tr th:only-of-type {\n",
       "        vertical-align: middle;\n",
       "    }\n",
       "\n",
       "    .dataframe tbody tr th {\n",
       "        vertical-align: top;\n",
       "    }\n",
       "\n",
       "    .dataframe thead th {\n",
       "        text-align: right;\n",
       "    }\n",
       "</style>\n",
       "<table border=\"1\" class=\"dataframe\">\n",
       "  <thead>\n",
       "    <tr style=\"text-align: right;\">\n",
       "      <th></th>\n",
       "      <th>PassengerId</th>\n",
       "      <th>target</th>\n",
       "      <th>Pclass</th>\n",
       "      <th>Name</th>\n",
       "      <th>Sex</th>\n",
       "      <th>Age</th>\n",
       "      <th>SibSp</th>\n",
       "      <th>Parch</th>\n",
       "      <th>Ticket</th>\n",
       "      <th>Fare</th>\n",
       "      <th>Cabin</th>\n",
       "      <th>Embarked</th>\n",
       "    </tr>\n",
       "  </thead>\n",
       "  <tbody>\n",
       "    <tr>\n",
       "      <th>0</th>\n",
       "      <td>1</td>\n",
       "      <td>0</td>\n",
       "      <td>3</td>\n",
       "      <td>Braund, Mr. Owen Harris</td>\n",
       "      <td>male</td>\n",
       "      <td>22.0</td>\n",
       "      <td>1</td>\n",
       "      <td>0</td>\n",
       "      <td>A/5 21171</td>\n",
       "      <td>7.2500</td>\n",
       "      <td>NaN</td>\n",
       "      <td>S</td>\n",
       "    </tr>\n",
       "    <tr>\n",
       "      <th>1</th>\n",
       "      <td>2</td>\n",
       "      <td>1</td>\n",
       "      <td>1</td>\n",
       "      <td>Cumings, Mrs. John Bradley (Florence Briggs Th...</td>\n",
       "      <td>female</td>\n",
       "      <td>38.0</td>\n",
       "      <td>1</td>\n",
       "      <td>0</td>\n",
       "      <td>PC 17599</td>\n",
       "      <td>71.2833</td>\n",
       "      <td>C85</td>\n",
       "      <td>C</td>\n",
       "    </tr>\n",
       "    <tr>\n",
       "      <th>2</th>\n",
       "      <td>3</td>\n",
       "      <td>1</td>\n",
       "      <td>3</td>\n",
       "      <td>Heikkinen, Miss. Laina</td>\n",
       "      <td>female</td>\n",
       "      <td>26.0</td>\n",
       "      <td>0</td>\n",
       "      <td>0</td>\n",
       "      <td>STON/O2. 3101282</td>\n",
       "      <td>7.9250</td>\n",
       "      <td>NaN</td>\n",
       "      <td>S</td>\n",
       "    </tr>\n",
       "  </tbody>\n",
       "</table>\n",
       "</div>"
      ],
      "text/plain": [
       "   PassengerId  target  Pclass  \\\n",
       "0            1       0       3   \n",
       "1            2       1       1   \n",
       "2            3       1       3   \n",
       "\n",
       "                                                Name     Sex   Age  SibSp  \\\n",
       "0                            Braund, Mr. Owen Harris    male  22.0      1   \n",
       "1  Cumings, Mrs. John Bradley (Florence Briggs Th...  female  38.0      1   \n",
       "2                             Heikkinen, Miss. Laina  female  26.0      0   \n",
       "\n",
       "   Parch            Ticket     Fare Cabin Embarked  \n",
       "0      0         A/5 21171   7.2500   NaN        S  \n",
       "1      0          PC 17599  71.2833   C85        C  \n",
       "2      0  STON/O2. 3101282   7.9250   NaN        S  "
      ]
     },
     "execution_count": 8,
     "metadata": {},
     "output_type": "execute_result"
    }
   ],
   "source": [
    "basedataset.head(3)"
   ]
  },
  {
   "cell_type": "markdown",
   "metadata": {},
   "source": [
    "# data preparation"
   ]
  },
  {
   "cell_type": "code",
   "execution_count": 9,
   "metadata": {},
   "outputs": [
    {
     "name": "stderr",
     "output_type": "stream",
     "text": [
      "/usr/local/lib/python3.7/site-packages/pandas/core/frame.py:3940: SettingWithCopyWarning: \n",
      "A value is trying to be set on a copy of a slice from a DataFrame\n",
      "\n",
      "See the caveats in the documentation: http://pandas.pydata.org/pandas-docs/stable/indexing.html#indexing-view-versus-copy\n",
      "  errors=errors)\n",
      "/usr/local/lib/python3.7/site-packages/pandas/core/frame.py:3391: SettingWithCopyWarning: \n",
      "A value is trying to be set on a copy of a slice from a DataFrame.\n",
      "Try using .loc[row_indexer,col_indexer] = value instead\n",
      "\n",
      "See the caveats in the documentation: http://pandas.pydata.org/pandas-docs/stable/indexing.html#indexing-view-versus-copy\n",
      "  self[k1] = value[k2]\n",
      "/alloc/data/fury_fda-general-analysis/commons/modelling_tools.py:12: SettingWithCopyWarning: \n",
      "A value is trying to be set on a copy of a slice from a DataFrame.\n",
      "Try using .loc[row_indexer,col_indexer] = value instead\n",
      "\n",
      "See the caveats in the documentation: http://pandas.pydata.org/pandas-docs/stable/indexing.html#indexing-view-versus-copy\n",
      "  df[c] = df[c].astype('str')\n",
      "/alloc/data/fury_fda-general-analysis/commons/modelling_tools.py:13: SettingWithCopyWarning: \n",
      "A value is trying to be set on a copy of a slice from a DataFrame.\n",
      "Try using .loc[row_indexer,col_indexer] = value instead\n",
      "\n",
      "See the caveats in the documentation: http://pandas.pydata.org/pandas-docs/stable/indexing.html#indexing-view-versus-copy\n",
      "  df[c] = df[c].fillna('undefined')\n",
      "/usr/local/lib/python3.7/site-packages/pandas/core/indexing.py:543: SettingWithCopyWarning: \n",
      "A value is trying to be set on a copy of a slice from a DataFrame.\n",
      "Try using .loc[row_indexer,col_indexer] = value instead\n",
      "\n",
      "See the caveats in the documentation: http://pandas.pydata.org/pandas-docs/stable/indexing.html#indexing-view-versus-copy\n",
      "  self.obj[item] = s\n"
     ]
    },
    {
     "name": "stdout",
     "output_type": "stream",
     "text": [
      "canary features\n"
     ]
    },
    {
     "name": "stderr",
     "output_type": "stream",
     "text": [
      "/alloc/data/fury_fda-general-analysis/commons/modelling_tools.py:31: SettingWithCopyWarning: \n",
      "A value is trying to be set on a copy of a slice from a DataFrame.\n",
      "Try using .loc[row_indexer,col_indexer] = value instead\n",
      "\n",
      "See the caveats in the documentation: http://pandas.pydata.org/pandas-docs/stable/indexing.html#indexing-view-versus-copy\n",
      "  df['canary_{}'.format(c)] = np.random.uniform(0,1,len(df))\n"
     ]
    }
   ],
   "source": [
    "X = basedataset[basedataset.columns.difference(['target'])]\n",
    "X = clean_dataset(X,categorical_cols=['Sex','Cabin','Embarked'],canary=3,vars_to_drop=['Name','Ticket'])\n",
    "y = basedataset['target'].astype('int')"
   ]
  },
  {
   "cell_type": "code",
   "execution_count": 10,
   "metadata": {},
   "outputs": [],
   "source": [
    "### Modelo LIGHTGBM\n",
    "X_train, X_test, y_train, y_test = train_test_split(X, y, test_size=0.3)\n",
    "\n",
    "# train df\n",
    "lgb_train = lgb.Dataset(X_train, y_train)\n",
    "\n",
    "# test df\n",
    "lgb_eval = lgb.Dataset(X_test, y_test, reference=lgb_train)"
   ]
  },
  {
   "cell_type": "code",
   "execution_count": 11,
   "metadata": {},
   "outputs": [
    {
     "name": "stdout",
     "output_type": "stream",
     "text": [
      "|   iter    |  target   | baggin... | baggin... | featur... | lambda_l1 | lambda_l2 | learni... | max_depth | min_ch... | min_sp... | num_le... |\n",
      "-------------------------------------------------------------------------------------------------------------------------------------------------\n",
      "| \u001b[0m 1       \u001b[0m | \u001b[0m 0.8392  \u001b[0m | \u001b[0m 0.9098  \u001b[0m | \u001b[0m 6.576   \u001b[0m | \u001b[0m 0.5822  \u001b[0m | \u001b[0m 2.724   \u001b[0m | \u001b[0m 1.271   \u001b[0m | \u001b[0m 0.06494 \u001b[0m | \u001b[0m 6.746   \u001b[0m | \u001b[0m 45.13   \u001b[0m | \u001b[0m 0.0964  \u001b[0m | \u001b[0m 23.42   \u001b[0m |\n",
      "| \u001b[95m 2       \u001b[0m | \u001b[95m 0.8453  \u001b[0m | \u001b[95m 0.9583  \u001b[0m | \u001b[95m 5.644   \u001b[0m | \u001b[95m 0.5544  \u001b[0m | \u001b[95m 4.628   \u001b[0m | \u001b[95m 0.2131  \u001b[0m | \u001b[95m 0.009626\u001b[0m | \u001b[95m 5.081   \u001b[0m | \u001b[95m 42.47   \u001b[0m | \u001b[95m 0.07804 \u001b[0m | \u001b[95m 40.45   \u001b[0m |\n",
      "| \u001b[0m 3       \u001b[0m | \u001b[0m 0.8399  \u001b[0m | \u001b[0m 0.9957  \u001b[0m | \u001b[0m 6.996   \u001b[0m | \u001b[0m 0.4692  \u001b[0m | \u001b[0m 3.903   \u001b[0m | \u001b[0m 0.3548  \u001b[0m | \u001b[0m 0.06435 \u001b[0m | \u001b[0m 5.572   \u001b[0m | \u001b[0m 47.51   \u001b[0m | \u001b[0m 0.05266 \u001b[0m | \u001b[0m 24.51   \u001b[0m |\n",
      "| \u001b[0m 4       \u001b[0m | \u001b[0m 0.8406  \u001b[0m | \u001b[0m 0.8529  \u001b[0m | \u001b[0m 6.871   \u001b[0m | \u001b[0m 0.4649  \u001b[0m | \u001b[0m 2.842   \u001b[0m | \u001b[0m 0.05637 \u001b[0m | \u001b[0m 0.06215 \u001b[0m | \u001b[0m 7.442   \u001b[0m | \u001b[0m 32.76   \u001b[0m | \u001b[0m 0.09443 \u001b[0m | \u001b[0m 33.86   \u001b[0m |\n",
      "| \u001b[95m 5       \u001b[0m | \u001b[95m 0.8533  \u001b[0m | \u001b[95m 0.8719  \u001b[0m | \u001b[95m 5.185   \u001b[0m | \u001b[95m 0.6581  \u001b[0m | \u001b[95m 0.3011  \u001b[0m | \u001b[95m 2.0     \u001b[0m | \u001b[95m 0.06739 \u001b[0m | \u001b[95m 5.839   \u001b[0m | \u001b[95m 10.8    \u001b[0m | \u001b[95m 0.03223 \u001b[0m | \u001b[95m 22.73   \u001b[0m |\n",
      "| \u001b[0m 6       \u001b[0m | \u001b[0m 0.8521  \u001b[0m | \u001b[0m 0.9736  \u001b[0m | \u001b[0m 3.021   \u001b[0m | \u001b[0m 0.2631  \u001b[0m | \u001b[0m 4.959   \u001b[0m | \u001b[0m 1.434   \u001b[0m | \u001b[0m 0.009467\u001b[0m | \u001b[0m 5.502   \u001b[0m | \u001b[0m 6.999   \u001b[0m | \u001b[0m 0.01324 \u001b[0m | \u001b[0m 14.96   \u001b[0m |\n",
      "| \u001b[95m 7       \u001b[0m | \u001b[95m 0.8548  \u001b[0m | \u001b[95m 0.8936  \u001b[0m | \u001b[95m 7.985   \u001b[0m | \u001b[95m 0.7667  \u001b[0m | \u001b[95m 4.511   \u001b[0m | \u001b[95m 1.734   \u001b[0m | \u001b[95m 0.0667  \u001b[0m | \u001b[95m 5.068   \u001b[0m | \u001b[95m 5.287   \u001b[0m | \u001b[95m 0.09712 \u001b[0m | \u001b[95m 39.68   \u001b[0m |\n",
      "| \u001b[95m 8       \u001b[0m | \u001b[95m 0.8579  \u001b[0m | \u001b[95m 0.8929  \u001b[0m | \u001b[95m 3.433   \u001b[0m | \u001b[95m 0.8701  \u001b[0m | \u001b[95m 1.052   \u001b[0m | \u001b[95m 2.98    \u001b[0m | \u001b[95m 0.04672 \u001b[0m | \u001b[95m 6.391   \u001b[0m | \u001b[95m 5.671   \u001b[0m | \u001b[95m 0.02127 \u001b[0m | \u001b[95m 44.59   \u001b[0m |\n",
      "| \u001b[95m 9       \u001b[0m | \u001b[95m 0.8594  \u001b[0m | \u001b[95m 0.9771  \u001b[0m | \u001b[95m 3.403   \u001b[0m | \u001b[95m 0.2439  \u001b[0m | \u001b[95m 0.1165  \u001b[0m | \u001b[95m 0.6902  \u001b[0m | \u001b[95m 0.08569 \u001b[0m | \u001b[95m 5.438   \u001b[0m | \u001b[95m 5.209   \u001b[0m | \u001b[95m 0.04389 \u001b[0m | \u001b[95m 37.14   \u001b[0m |\n",
      "| \u001b[95m 10      \u001b[0m | \u001b[95m 0.8598  \u001b[0m | \u001b[95m 0.9185  \u001b[0m | \u001b[95m 3.341   \u001b[0m | \u001b[95m 0.7595  \u001b[0m | \u001b[95m 0.355   \u001b[0m | \u001b[95m 2.283   \u001b[0m | \u001b[95m 0.03549 \u001b[0m | \u001b[95m 5.131   \u001b[0m | \u001b[95m 7.039   \u001b[0m | \u001b[95m 0.08717 \u001b[0m | \u001b[95m 39.97   \u001b[0m |\n",
      "| \u001b[0m 11      \u001b[0m | \u001b[0m 0.8314  \u001b[0m | \u001b[0m 0.886   \u001b[0m | \u001b[0m 3.711   \u001b[0m | \u001b[0m 0.3369  \u001b[0m | \u001b[0m 0.5286  \u001b[0m | \u001b[0m 2.282   \u001b[0m | \u001b[0m 0.0361  \u001b[0m | \u001b[0m 5.032   \u001b[0m | \u001b[0m 9.742   \u001b[0m | \u001b[0m 0.07084 \u001b[0m | \u001b[0m 44.14   \u001b[0m |\n",
      "| \u001b[0m 12      \u001b[0m | \u001b[0m 0.8371  \u001b[0m | \u001b[0m 0.9844  \u001b[0m | \u001b[0m 3.221   \u001b[0m | \u001b[0m 0.1163  \u001b[0m | \u001b[0m 4.797   \u001b[0m | \u001b[0m 2.334   \u001b[0m | \u001b[0m 0.05931 \u001b[0m | \u001b[0m 8.703   \u001b[0m | \u001b[0m 8.866   \u001b[0m | \u001b[0m 0.02346 \u001b[0m | \u001b[0m 27.17   \u001b[0m |\n",
      "| \u001b[0m 13      \u001b[0m | \u001b[0m 0.6976  \u001b[0m | \u001b[0m 0.8503  \u001b[0m | \u001b[0m 6.589   \u001b[0m | \u001b[0m 0.5214  \u001b[0m | \u001b[0m 0.8125  \u001b[0m | \u001b[0m 0.006217\u001b[0m | \u001b[0m 0.04333 \u001b[0m | \u001b[0m 8.681   \u001b[0m | \u001b[0m 49.9    \u001b[0m | \u001b[0m 0.04608 \u001b[0m | \u001b[0m 42.96   \u001b[0m |\n",
      "| \u001b[0m 14      \u001b[0m | \u001b[0m 0.6967  \u001b[0m | \u001b[0m 0.8321  \u001b[0m | \u001b[0m 3.0     \u001b[0m | \u001b[0m 0.9     \u001b[0m | \u001b[0m 5.0     \u001b[0m | \u001b[0m 0.0     \u001b[0m | \u001b[0m 0.03513 \u001b[0m | \u001b[0m 5.0     \u001b[0m | \u001b[0m 44.78   \u001b[0m | \u001b[0m 0.1     \u001b[0m | \u001b[0m 10.0    \u001b[0m |\n",
      "| \u001b[0m 15      \u001b[0m | \u001b[0m 0.8373  \u001b[0m | \u001b[0m 1.0     \u001b[0m | \u001b[0m 8.0     \u001b[0m | \u001b[0m 0.1     \u001b[0m | \u001b[0m 5.0     \u001b[0m | \u001b[0m 3.0     \u001b[0m | \u001b[0m 0.0281  \u001b[0m | \u001b[0m 5.0     \u001b[0m | \u001b[0m 37.26   \u001b[0m | \u001b[0m 0.09857 \u001b[0m | \u001b[0m 26.68   \u001b[0m |\n",
      "| \u001b[0m 16      \u001b[0m | \u001b[0m 0.8496  \u001b[0m | \u001b[0m 0.8     \u001b[0m | \u001b[0m 8.0     \u001b[0m | \u001b[0m 0.9     \u001b[0m | \u001b[0m 0.0     \u001b[0m | \u001b[0m 0.0     \u001b[0m | \u001b[0m 0.001   \u001b[0m | \u001b[0m 8.99    \u001b[0m | \u001b[0m 5.0     \u001b[0m | \u001b[0m 0.1     \u001b[0m | \u001b[0m 10.0    \u001b[0m |\n",
      "| \u001b[0m 17      \u001b[0m | \u001b[0m 0.8418  \u001b[0m | \u001b[0m 0.9181  \u001b[0m | \u001b[0m 3.116   \u001b[0m | \u001b[0m 0.5974  \u001b[0m | \u001b[0m 0.838   \u001b[0m | \u001b[0m 0.3115  \u001b[0m | \u001b[0m 0.06712 \u001b[0m | \u001b[0m 5.464   \u001b[0m | \u001b[0m 40.59   \u001b[0m | \u001b[0m 0.09155 \u001b[0m | \u001b[0m 29.98   \u001b[0m |\n",
      "| \u001b[0m 18      \u001b[0m | \u001b[0m 0.8427  \u001b[0m | \u001b[0m 0.8     \u001b[0m | \u001b[0m 3.0     \u001b[0m | \u001b[0m 0.9     \u001b[0m | \u001b[0m 5.0     \u001b[0m | \u001b[0m 3.0     \u001b[0m | \u001b[0m 0.001   \u001b[0m | \u001b[0m 8.99    \u001b[0m | \u001b[0m 40.77   \u001b[0m | \u001b[0m 0.001   \u001b[0m | \u001b[0m 33.69   \u001b[0m |\n",
      "| \u001b[0m 19      \u001b[0m | \u001b[0m 0.8503  \u001b[0m | \u001b[0m 0.9248  \u001b[0m | \u001b[0m 3.107   \u001b[0m | \u001b[0m 0.8142  \u001b[0m | \u001b[0m 0.8064  \u001b[0m | \u001b[0m 2.89    \u001b[0m | \u001b[0m 0.05762 \u001b[0m | \u001b[0m 7.654   \u001b[0m | \u001b[0m 5.296   \u001b[0m | \u001b[0m 0.08357 \u001b[0m | \u001b[0m 20.93   \u001b[0m |\n",
      "| \u001b[0m 20      \u001b[0m | \u001b[0m 0.8521  \u001b[0m | \u001b[0m 0.9849  \u001b[0m | \u001b[0m 3.0     \u001b[0m | \u001b[0m 0.9     \u001b[0m | \u001b[0m 5.0     \u001b[0m | \u001b[0m 0.0     \u001b[0m | \u001b[0m 0.09598 \u001b[0m | \u001b[0m 5.0     \u001b[0m | \u001b[0m 25.17   \u001b[0m | \u001b[0m 0.006191\u001b[0m | \u001b[0m 44.96   \u001b[0m |\n",
      "=================================================================================================================================================\n"
     ]
    }
   ],
   "source": [
    "# optimizar\n",
    "opt_params = bayes_parameter_opt_lgb(X_train, y_train, X_test, y_test, init_round=5, opt_round=15, random_seed=6)"
   ]
  },
  {
   "cell_type": "code",
   "execution_count": 12,
   "metadata": {},
   "outputs": [],
   "source": [
    "params = {\n",
    "        'boosting_type': 'gbdt',\n",
    "        'objective': 'binary',\n",
    "        'metric': {'l2', 'l1','l2_root','mape', 'rmse', 'auc'},\n",
    "        'learning_rate': opt_params['params']['learning_rate'],\n",
    "        'feature_fraction': opt_params['params']['feature_fraction'],\n",
    "        'max_depth': opt_params['params']['max_depth'],\n",
    "        'min_child_weight': opt_params['params']['min_child_weight'],\n",
    "        'min_split_gain': opt_params['params']['min_split_gain'],\n",
    "        'lambda_l1': opt_params['params']['lambda_l1'],\n",
    "        'lambda_l1': opt_params['params']['lambda_l2'],\n",
    "        'num_leaves': opt_params['params']['num_leaves'],\n",
    "        'bagging_freq': int(opt_params['params']['bagging_freq']),\n",
    "        'n_jobs':40,\n",
    "        'verbose': 0\n",
    "    }"
   ]
  },
  {
   "cell_type": "code",
   "execution_count": 13,
   "metadata": {},
   "outputs": [
    {
     "name": "stdout",
     "output_type": "stream",
     "text": [
      "[LightGBM] [Warning] Auto-choosing row-wise multi-threading, the overhead of testing was 0.000404 seconds.\n",
      "You can set `force_row_wise=true` to remove the overhead.\n",
      "And if memory is not enough, you can set `force_col_wise=true`.\n",
      "[LightGBM] [Warning] No further splits with positive gain, best gain: -inf\n",
      "[1]\tvalid_0's auc: 0.846184\tvalid_0's l2: 0.226479\tvalid_0's rmse: 0.475898\tvalid_0's l1: 0.464401\tvalid_0's mape: 0.464401\n",
      "Training until validation scores don't improve for 30 rounds\n",
      "[LightGBM] [Warning] No further splits with positive gain, best gain: -inf\n",
      "[2]\tvalid_0's auc: 0.852699\tvalid_0's l2: 0.220806\tvalid_0's rmse: 0.4699\tvalid_0's l1: 0.45852\tvalid_0's mape: 0.45852\n",
      "[LightGBM] [Warning] No further splits with positive gain, best gain: -inf\n",
      "[3]\tvalid_0's auc: 0.840775\tvalid_0's l2: 0.218905\tvalid_0's rmse: 0.467873\tvalid_0's l1: 0.456411\tvalid_0's mape: 0.456411\n",
      "[LightGBM] [Warning] No further splits with positive gain, best gain: -inf\n",
      "[4]\tvalid_0's auc: 0.831182\tvalid_0's l2: 0.217064\tvalid_0's rmse: 0.465901\tvalid_0's l1: 0.454274\tvalid_0's mape: 0.454274\n",
      "[LightGBM] [Warning] No further splits with positive gain, best gain: -inf\n",
      "[5]\tvalid_0's auc: 0.827506\tvalid_0's l2: 0.215052\tvalid_0's rmse: 0.463737\tvalid_0's l1: 0.451905\tvalid_0's mape: 0.451905\n",
      "[LightGBM] [Warning] No further splits with positive gain, best gain: -inf\n",
      "[6]\tvalid_0's auc: 0.822993\tvalid_0's l2: 0.213271\tvalid_0's rmse: 0.461812\tvalid_0's l1: 0.449793\tvalid_0's mape: 0.449793\n",
      "[LightGBM] [Warning] No further splits with positive gain, best gain: -inf\n",
      "[7]\tvalid_0's auc: 0.837667\tvalid_0's l2: 0.207662\tvalid_0's rmse: 0.455699\tvalid_0's l1: 0.443512\tvalid_0's mape: 0.443512\n",
      "[LightGBM] [Warning] No further splits with positive gain, best gain: -inf\n",
      "[8]\tvalid_0's auc: 0.827685\tvalid_0's l2: 0.206312\tvalid_0's rmse: 0.454215\tvalid_0's l1: 0.441802\tvalid_0's mape: 0.441802\n",
      "[LightGBM] [Warning] No further splits with positive gain, best gain: -inf\n",
      "[9]\tvalid_0's auc: 0.839101\tvalid_0's l2: 0.201847\tvalid_0's rmse: 0.449274\tvalid_0's l1: 0.436561\tvalid_0's mape: 0.436561\n",
      "[LightGBM] [Warning] No further splits with positive gain, best gain: -inf\n",
      "[10]\tvalid_0's auc: 0.844958\tvalid_0's l2: 0.197666\tvalid_0's rmse: 0.444596\tvalid_0's l1: 0.431473\tvalid_0's mape: 0.431473\n",
      "[LightGBM] [Warning] No further splits with positive gain, best gain: -inf\n",
      "[11]\tvalid_0's auc: 0.848186\tvalid_0's l2: 0.193891\tvalid_0's rmse: 0.440331\tvalid_0's l1: 0.426718\tvalid_0's mape: 0.426718\n",
      "[LightGBM] [Warning] No further splits with positive gain, best gain: -inf\n",
      "[12]\tvalid_0's auc: 0.850158\tvalid_0's l2: 0.189582\tvalid_0's rmse: 0.43541\tvalid_0's l1: 0.42119\tvalid_0's mape: 0.42119\n",
      "[LightGBM] [Warning] No further splits with positive gain, best gain: -inf\n",
      "[13]\tvalid_0's auc: 0.851772\tvalid_0's l2: 0.186208\tvalid_0's rmse: 0.431518\tvalid_0's l1: 0.416644\tvalid_0's mape: 0.416644\n",
      "[LightGBM] [Warning] No further splits with positive gain, best gain: -inf\n",
      "[14]\tvalid_0's auc: 0.85222\tvalid_0's l2: 0.183101\tvalid_0's rmse: 0.427903\tvalid_0's l1: 0.412299\tvalid_0's mape: 0.412299\n",
      "[LightGBM] [Warning] No further splits with positive gain, best gain: -inf\n",
      "[15]\tvalid_0's auc: 0.854701\tvalid_0's l2: 0.181792\tvalid_0's rmse: 0.426371\tvalid_0's l1: 0.410429\tvalid_0's mape: 0.410429\n",
      "[LightGBM] [Warning] No further splits with positive gain, best gain: -inf\n",
      "[16]\tvalid_0's auc: 0.851593\tvalid_0's l2: 0.181442\tvalid_0's rmse: 0.425961\tvalid_0's l1: 0.409545\tvalid_0's mape: 0.409545\n",
      "[LightGBM] [Warning] No further splits with positive gain, best gain: -inf\n",
      "[17]\tvalid_0's auc: 0.852579\tvalid_0's l2: 0.178477\tvalid_0's rmse: 0.422465\tvalid_0's l1: 0.405304\tvalid_0's mape: 0.405304\n",
      "[LightGBM] [Warning] No further splits with positive gain, best gain: -inf\n",
      "[18]\tvalid_0's auc: 0.853177\tvalid_0's l2: 0.175229\tvalid_0's rmse: 0.418603\tvalid_0's l1: 0.400532\tvalid_0's mape: 0.400532\n",
      "[LightGBM] [Warning] No further splits with positive gain, best gain: -inf\n",
      "[19]\tvalid_0's auc: 0.853476\tvalid_0's l2: 0.172246\tvalid_0's rmse: 0.415025\tvalid_0's l1: 0.395971\tvalid_0's mape: 0.395971\n",
      "[LightGBM] [Warning] No further splits with positive gain, best gain: -inf\n",
      "[20]\tvalid_0's auc: 0.8524\tvalid_0's l2: 0.171557\tvalid_0's rmse: 0.414195\tvalid_0's l1: 0.394552\tvalid_0's mape: 0.394552\n",
      "[LightGBM] [Warning] No further splits with positive gain, best gain: -inf\n",
      "[21]\tvalid_0's auc: 0.852639\tvalid_0's l2: 0.168791\tvalid_0's rmse: 0.410842\tvalid_0's l1: 0.390133\tvalid_0's mape: 0.390133\n",
      "[LightGBM] [Warning] No further splits with positive gain, best gain: -inf\n",
      "[22]\tvalid_0's auc: 0.85225\tvalid_0's l2: 0.167917\tvalid_0's rmse: 0.409777\tvalid_0's l1: 0.388607\tvalid_0's mape: 0.388607\n",
      "[LightGBM] [Warning] No further splits with positive gain, best gain: -inf\n",
      "[23]\tvalid_0's auc: 0.851234\tvalid_0's l2: 0.167406\tvalid_0's rmse: 0.409153\tvalid_0's l1: 0.38737\tvalid_0's mape: 0.38737\n",
      "[LightGBM] [Warning] No further splits with positive gain, best gain: -inf\n",
      "[24]\tvalid_0's auc: 0.852041\tvalid_0's l2: 0.165204\tvalid_0's rmse: 0.406453\tvalid_0's l1: 0.3838\tvalid_0's mape: 0.3838\n",
      "[LightGBM] [Warning] No further splits with positive gain, best gain: -inf\n",
      "[25]\tvalid_0's auc: 0.850248\tvalid_0's l2: 0.164961\tvalid_0's rmse: 0.406154\tvalid_0's l1: 0.382735\tvalid_0's mape: 0.382735\n",
      "[LightGBM] [Warning] No further splits with positive gain, best gain: -inf\n",
      "[26]\tvalid_0's auc: 0.850726\tvalid_0's l2: 0.162672\tvalid_0's rmse: 0.403327\tvalid_0's l1: 0.378728\tvalid_0's mape: 0.378728\n",
      "[LightGBM] [Warning] No further splits with positive gain, best gain: -inf\n",
      "[27]\tvalid_0's auc: 0.851503\tvalid_0's l2: 0.160542\tvalid_0's rmse: 0.400677\tvalid_0's l1: 0.374892\tvalid_0's mape: 0.374892\n",
      "[LightGBM] [Warning] No further splits with positive gain, best gain: -inf\n",
      "[28]\tvalid_0's auc: 0.849531\tvalid_0's l2: 0.160252\tvalid_0's rmse: 0.400315\tvalid_0's l1: 0.374059\tvalid_0's mape: 0.374059\n",
      "[LightGBM] [Warning] No further splits with positive gain, best gain: -inf\n",
      "[29]\tvalid_0's auc: 0.848455\tvalid_0's l2: 0.160228\tvalid_0's rmse: 0.400285\tvalid_0's l1: 0.373487\tvalid_0's mape: 0.373487\n",
      "[LightGBM] [Warning] No further splits with positive gain, best gain: -inf\n",
      "[30]\tvalid_0's auc: 0.848873\tvalid_0's l2: 0.158276\tvalid_0's rmse: 0.397839\tvalid_0's l1: 0.369788\tvalid_0's mape: 0.369788\n",
      "[LightGBM] [Warning] No further splits with positive gain, best gain: -inf\n",
      "[31]\tvalid_0's auc: 0.849172\tvalid_0's l2: 0.156447\tvalid_0's rmse: 0.395534\tvalid_0's l1: 0.366228\tvalid_0's mape: 0.366228\n",
      "[LightGBM] [Warning] No further splits with positive gain, best gain: -inf\n",
      "[32]\tvalid_0's auc: 0.849232\tvalid_0's l2: 0.154788\tvalid_0's rmse: 0.393431\tvalid_0's l1: 0.362859\tvalid_0's mape: 0.362859\n",
      "[LightGBM] [Warning] No further splits with positive gain, best gain: -inf\n",
      "[33]\tvalid_0's auc: 0.849292\tvalid_0's l2: 0.153213\tvalid_0's rmse: 0.391425\tvalid_0's l1: 0.359552\tvalid_0's mape: 0.359552\n",
      "[LightGBM] [Warning] No further splits with positive gain, best gain: -inf\n",
      "[34]\tvalid_0's auc: 0.84968\tvalid_0's l2: 0.151874\tvalid_0's rmse: 0.389711\tvalid_0's l1: 0.356556\tvalid_0's mape: 0.356556\n",
      "[LightGBM] [Warning] No further splits with positive gain, best gain: -inf\n",
      "[35]\tvalid_0's auc: 0.849919\tvalid_0's l2: 0.150502\tvalid_0's rmse: 0.387946\tvalid_0's l1: 0.353482\tvalid_0's mape: 0.353482\n",
      "[LightGBM] [Warning] No further splits with positive gain, best gain: -inf\n",
      "[36]\tvalid_0's auc: 0.84986\tvalid_0's l2: 0.149219\tvalid_0's rmse: 0.386289\tvalid_0's l1: 0.350586\tvalid_0's mape: 0.350586\n",
      "[LightGBM] [Warning] No further splits with positive gain, best gain: -inf\n",
      "[37]\tvalid_0's auc: 0.8498\tvalid_0's l2: 0.148027\tvalid_0's rmse: 0.384743\tvalid_0's l1: 0.347793\tvalid_0's mape: 0.347793\n",
      "[LightGBM] [Warning] No further splits with positive gain, best gain: -inf\n",
      "[38]\tvalid_0's auc: 0.849561\tvalid_0's l2: 0.146919\tvalid_0's rmse: 0.383301\tvalid_0's l1: 0.345102\tvalid_0's mape: 0.345102\n",
      "[LightGBM] [Warning] No further splits with positive gain, best gain: -inf\n",
      "[39]\tvalid_0's auc: 0.84962\tvalid_0's l2: 0.146036\tvalid_0's rmse: 0.382147\tvalid_0's l1: 0.342629\tvalid_0's mape: 0.342629\n",
      "[LightGBM] [Warning] No further splits with positive gain, best gain: -inf\n",
      "[40]\tvalid_0's auc: 0.849979\tvalid_0's l2: 0.145156\tvalid_0's rmse: 0.380993\tvalid_0's l1: 0.340368\tvalid_0's mape: 0.340368\n",
      "[LightGBM] [Warning] No further splits with positive gain, best gain: -inf\n",
      "[41]\tvalid_0's auc: 0.849561\tvalid_0's l2: 0.144397\tvalid_0's rmse: 0.379996\tvalid_0's l1: 0.338148\tvalid_0's mape: 0.338148\n",
      "[LightGBM] [Warning] No further splits with positive gain, best gain: -inf\n",
      "[42]\tvalid_0's auc: 0.84971\tvalid_0's l2: 0.143604\tvalid_0's rmse: 0.378951\tvalid_0's l1: 0.335947\tvalid_0's mape: 0.335947\n",
      "[LightGBM] [Warning] No further splits with positive gain, best gain: -inf\n",
      "[43]\tvalid_0's auc: 0.850427\tvalid_0's l2: 0.142656\tvalid_0's rmse: 0.377699\tvalid_0's l1: 0.33344\tvalid_0's mape: 0.33344\n",
      "[LightGBM] [Warning] No further splits with positive gain, best gain: -inf\n",
      "[44]\tvalid_0's auc: 0.850248\tvalid_0's l2: 0.142027\tvalid_0's rmse: 0.376865\tvalid_0's l1: 0.33123\tvalid_0's mape: 0.33123\n",
      "[LightGBM] [Warning] No further splits with positive gain, best gain: -inf\n",
      "[45]\tvalid_0's auc: 0.851055\tvalid_0's l2: 0.142033\tvalid_0's rmse: 0.376872\tvalid_0's l1: 0.330966\tvalid_0's mape: 0.330966\n",
      "Early stopping, best iteration is:\n",
      "[15]\tvalid_0's auc: 0.854701\tvalid_0's l2: 0.181792\tvalid_0's rmse: 0.426371\tvalid_0's l1: 0.410429\tvalid_0's mape: 0.410429\n"
     ]
    }
   ],
   "source": [
    "# Entreno el modelo (con los codigos de MLA)\n",
    "# https://github.com/Microsoft/LightGBM/blob/2e93cdab9eee02d4d7f5cb3b6b31128dec94e25e/examples/python-guide/plot_example.py#L32-L47\n",
    "evals_result = {}  # to record eval results for plotting\n",
    "gbm = lgb.train(params,\n",
    "                lgb_train,\n",
    "                num_boost_round=50,\n",
    "                evals_result=evals_result,\n",
    "                valid_sets=lgb_eval,\n",
    "                early_stopping_rounds=30,\n",
    "                verbose_eval=True)"
   ]
  },
  {
   "cell_type": "markdown",
   "metadata": {},
   "source": [
    "# metricas"
   ]
  },
  {
   "cell_type": "code",
   "execution_count": 14,
   "metadata": {},
   "outputs": [],
   "source": [
    "y_pred = gbm.predict(X_test)"
   ]
  },
  {
   "cell_type": "code",
   "execution_count": 15,
   "metadata": {},
   "outputs": [
    {
     "name": "stdout",
     "output_type": "stream",
     "text": [
      "ROC curve & AUC..\n"
     ]
    },
    {
     "data": {
      "image/png": "[encoded data removed]",
      "text/plain": [
       "<Figure size 432x288 with 1 Axes>"
      ]
     },
     "metadata": {
      "needs_background": "light"
     },
     "output_type": "display_data"
    }
   ],
   "source": [
    "met.plot_roc_curve(y_test,y_pred ,'model1')"
   ]
  },
  {
   "cell_type": "code",
   "execution_count": 16,
   "metadata": {},
   "outputs": [
    {
     "name": "stdout",
     "output_type": "stream",
     "text": [
      "Best cutoff..\n",
      "Best cutoff..\n"
     ]
    },
    {
     "data": {
      "text/plain": [
       "(0.6151455382224613, 0.45723373111778537)"
      ]
     },
     "execution_count": 16,
     "metadata": {},
     "output_type": "execute_result"
    }
   ],
   "source": [
    "max_ks, cutoff = met.best_cutoff(y_test, y_pred,'model1')\n",
    "met.best_cutoff(y_test, y_pred,'model1')"
   ]
  },
  {
   "cell_type": "code",
   "execution_count": 17,
   "metadata": {},
   "outputs": [
    {
     "data": {
      "text/plain": [
       "{'Cutoff': 0.457,\n",
       " 'KS': 0.615,\n",
       " 'Accuracy': 84.7,\n",
       " 'Precision (1)': 90.28,\n",
       " 'Recall (1)': 65.66,\n",
       " 'Mean absolute error': 0.15,\n",
       " 'mean squared error': 0.15,\n",
       " 'Root mean squared error': 0.39}"
      ]
     },
     "execution_count": 17,
     "metadata": {},
     "output_type": "execute_result"
    }
   ],
   "source": [
    "reporte = met.obtain_metrics(y_pred, y_test, cutoff, max_ks)\n",
    "met.obtain_metrics(y_pred, y_test, cutoff, max_ks)"
   ]
  },
  {
   "cell_type": "code",
   "execution_count": 18,
   "metadata": {},
   "outputs": [
    {
     "name": "stdout",
     "output_type": "stream",
     "text": [
      "> Confussion matrix\n"
     ]
    },
    {
     "data": {
      "image/png": "[encoded data removed]",
      "text/plain": [
       "<Figure size 288x288 with 2 Axes>"
      ]
     },
     "metadata": {
      "needs_background": "light"
     },
     "output_type": "display_data"
    },
    {
     "name": "stdout",
     "output_type": "stream",
     "text": [
      "> Reporte:\n",
      "1\n"
     ]
    }
   ],
   "source": [
    "y_cut_off = y_pred >= cutoff\n",
    "cm, annot = met.cm_analysis(y_test, y_cut_off)\n",
    "met.print_confussion_matrix_and_report(cm, annot, '1')"
   ]
  },
  {
   "cell_type": "code",
   "execution_count": 19,
   "metadata": {},
   "outputs": [
    {
     "name": "stdout",
     "output_type": "stream",
     "text": [
      "              precision    recall  f1-score   support\n",
      "\n",
      "           0       0.83      0.96      0.89       169\n",
      "           1       0.90      0.66      0.76        99\n",
      "\n",
      "    accuracy                           0.85       268\n",
      "   macro avg       0.86      0.81      0.82       268\n",
      "weighted avg       0.85      0.85      0.84       268\n",
      "\n"
     ]
    }
   ],
   "source": [
    "print(met.classification_report(y_test,y_cut_off))"
   ]
  },
  {
   "cell_type": "code",
   "execution_count": 20,
   "metadata": {},
   "outputs": [
    {
     "data": {
      "text/html": [
       "<div>\n",
       "<style scoped>\n",
       "    .dataframe tbody tr th:only-of-type {\n",
       "        vertical-align: middle;\n",
       "    }\n",
       "\n",
       "    .dataframe tbody tr th {\n",
       "        vertical-align: top;\n",
       "    }\n",
       "\n",
       "    .dataframe thead th {\n",
       "        text-align: right;\n",
       "    }\n",
       "</style>\n",
       "<table border=\"1\" class=\"dataframe\">\n",
       "  <thead>\n",
       "    <tr style=\"text-align: right;\">\n",
       "      <th></th>\n",
       "      <th>prob_group</th>\n",
       "      <th>min_prob</th>\n",
       "      <th>max_prob</th>\n",
       "      <th>events</th>\n",
       "      <th>nonevents</th>\n",
       "      <th>event_rate</th>\n",
       "      <th>nonevent_rate</th>\n",
       "      <th>cum_eventrate</th>\n",
       "      <th>cum_noneventrate</th>\n",
       "      <th>TP</th>\n",
       "      <th>FP</th>\n",
       "      <th>TN</th>\n",
       "      <th>FN</th>\n",
       "      <th>Precision_(1)</th>\n",
       "      <th>recall_(1)</th>\n",
       "      <th>F1-score(1)</th>\n",
       "      <th>Precision_(0)</th>\n",
       "      <th>recall_(0)</th>\n",
       "      <th>F1-score(0)</th>\n",
       "      <th>KS</th>\n",
       "    </tr>\n",
       "  </thead>\n",
       "  <tbody>\n",
       "    <tr>\n",
       "      <th>0</th>\n",
       "      <td>0.6</td>\n",
       "      <td>0.604139</td>\n",
       "      <td>0.604139</td>\n",
       "      <td>4</td>\n",
       "      <td>2</td>\n",
       "      <td>4.04%</td>\n",
       "      <td>1.18%</td>\n",
       "      <td>4.04%</td>\n",
       "      <td>1.18%</td>\n",
       "      <td>4</td>\n",
       "      <td>2</td>\n",
       "      <td>167</td>\n",
       "      <td>95</td>\n",
       "      <td>0.67</td>\n",
       "      <td>0.04</td>\n",
       "      <td>0.08</td>\n",
       "      <td>0.64</td>\n",
       "      <td>0.99</td>\n",
       "      <td>0.78</td>\n",
       "      <td>2.9</td>\n",
       "    </tr>\n",
       "    <tr>\n",
       "      <th>1</th>\n",
       "      <td>0.5</td>\n",
       "      <td>0.506255</td>\n",
       "      <td>0.597404</td>\n",
       "      <td>45</td>\n",
       "      <td>2</td>\n",
       "      <td>45.45%</td>\n",
       "      <td>1.18%</td>\n",
       "      <td>49.49%</td>\n",
       "      <td>2.37%</td>\n",
       "      <td>49</td>\n",
       "      <td>4</td>\n",
       "      <td>165</td>\n",
       "      <td>50</td>\n",
       "      <td>0.92</td>\n",
       "      <td>0.49</td>\n",
       "      <td>0.64</td>\n",
       "      <td>0.77</td>\n",
       "      <td>0.98</td>\n",
       "      <td>0.86</td>\n",
       "      <td>47.1</td>\n",
       "    </tr>\n",
       "    <tr>\n",
       "      <th>2</th>\n",
       "      <td>0.4</td>\n",
       "      <td>0.402008</td>\n",
       "      <td>0.499820</td>\n",
       "      <td>32</td>\n",
       "      <td>32</td>\n",
       "      <td>32.32%</td>\n",
       "      <td>18.93%</td>\n",
       "      <td>81.82%</td>\n",
       "      <td>21.30%</td>\n",
       "      <td>81</td>\n",
       "      <td>36</td>\n",
       "      <td>133</td>\n",
       "      <td>18</td>\n",
       "      <td>0.69</td>\n",
       "      <td>0.82</td>\n",
       "      <td>0.75</td>\n",
       "      <td>0.88</td>\n",
       "      <td>0.79</td>\n",
       "      <td>0.83</td>\n",
       "      <td>60.5</td>\n",
       "    </tr>\n",
       "    <tr>\n",
       "      <th>3</th>\n",
       "      <td>0.3</td>\n",
       "      <td>0.300328</td>\n",
       "      <td>0.398836</td>\n",
       "      <td>12</td>\n",
       "      <td>80</td>\n",
       "      <td>12.12%</td>\n",
       "      <td>47.34%</td>\n",
       "      <td>93.94%</td>\n",
       "      <td>68.64%</td>\n",
       "      <td>93</td>\n",
       "      <td>116</td>\n",
       "      <td>53</td>\n",
       "      <td>6</td>\n",
       "      <td>0.44</td>\n",
       "      <td>0.94</td>\n",
       "      <td>0.60</td>\n",
       "      <td>0.90</td>\n",
       "      <td>0.31</td>\n",
       "      <td>0.46</td>\n",
       "      <td>25.3</td>\n",
       "    </tr>\n",
       "    <tr>\n",
       "      <th>4</th>\n",
       "      <td>0.2</td>\n",
       "      <td>0.278279</td>\n",
       "      <td>0.296779</td>\n",
       "      <td>6</td>\n",
       "      <td>53</td>\n",
       "      <td>6.06%</td>\n",
       "      <td>31.36%</td>\n",
       "      <td>100.00%</td>\n",
       "      <td>100.00%</td>\n",
       "      <td>99</td>\n",
       "      <td>169</td>\n",
       "      <td>0</td>\n",
       "      <td>0</td>\n",
       "      <td>0.37</td>\n",
       "      <td>1.00</td>\n",
       "      <td>0.54</td>\n",
       "      <td>NaN</td>\n",
       "      <td>0.00</td>\n",
       "      <td>NaN</td>\n",
       "      <td>0.0</td>\n",
       "    </tr>\n",
       "  </tbody>\n",
       "</table>\n",
       "</div>"
      ],
      "text/plain": [
       "   prob_group  min_prob  max_prob  events  nonevents event_rate nonevent_rate  \\\n",
       "0         0.6  0.604139  0.604139       4          2      4.04%         1.18%   \n",
       "1         0.5  0.506255  0.597404      45          2     45.45%         1.18%   \n",
       "2         0.4  0.402008  0.499820      32         32     32.32%        18.93%   \n",
       "3         0.3  0.300328  0.398836      12         80     12.12%        47.34%   \n",
       "4         0.2  0.278279  0.296779       6         53      6.06%        31.36%   \n",
       "\n",
       "  cum_eventrate cum_noneventrate  TP   FP   TN  FN  Precision_(1)  recall_(1)  \\\n",
       "0         4.04%            1.18%   4    2  167  95           0.67        0.04   \n",
       "1        49.49%            2.37%  49    4  165  50           0.92        0.49   \n",
       "2        81.82%           21.30%  81   36  133  18           0.69        0.82   \n",
       "3        93.94%           68.64%  93  116   53   6           0.44        0.94   \n",
       "4       100.00%          100.00%  99  169    0   0           0.37        1.00   \n",
       "\n",
       "   F1-score(1)  Precision_(0)  recall_(0)  F1-score(0)    KS  \n",
       "0         0.08           0.64        0.99         0.78   2.9  \n",
       "1         0.64           0.77        0.98         0.86  47.1  \n",
       "2         0.75           0.88        0.79         0.83  60.5  \n",
       "3         0.60           0.90        0.31         0.46  25.3  \n",
       "4         0.54            NaN        0.00          NaN   0.0  "
      ]
     },
     "execution_count": 20,
     "metadata": {},
     "output_type": "execute_result"
    }
   ],
   "source": [
    "met.ks_table(y_test, y_pred,decimal=1)"
   ]
  },
  {
   "cell_type": "code",
   "execution_count": 21,
   "metadata": {},
   "outputs": [
    {
     "data": {
      "text/html": [
       "<div>\n",
       "<style scoped>\n",
       "    .dataframe tbody tr th:only-of-type {\n",
       "        vertical-align: middle;\n",
       "    }\n",
       "\n",
       "    .dataframe tbody tr th {\n",
       "        vertical-align: top;\n",
       "    }\n",
       "\n",
       "    .dataframe thead th {\n",
       "        text-align: right;\n",
       "    }\n",
       "</style>\n",
       "<table border=\"1\" class=\"dataframe\">\n",
       "  <thead>\n",
       "    <tr style=\"text-align: right;\">\n",
       "      <th></th>\n",
       "      <th>prob_group</th>\n",
       "      <th>min_prob</th>\n",
       "      <th>max_prob</th>\n",
       "      <th>avg_prob</th>\n",
       "      <th>events</th>\n",
       "      <th>nonevents</th>\n",
       "      <th>obs</th>\n",
       "      <th>prop_target</th>\n",
       "      <th>event_rate</th>\n",
       "      <th>nonevent_rate</th>\n",
       "      <th>cum_eventrate</th>\n",
       "      <th>cum_noneventrate</th>\n",
       "      <th>KS</th>\n",
       "    </tr>\n",
       "  </thead>\n",
       "  <tbody>\n",
       "    <tr>\n",
       "      <th>0</th>\n",
       "      <td>4</td>\n",
       "      <td>0.499820</td>\n",
       "      <td>0.604139</td>\n",
       "      <td>0.557023</td>\n",
       "      <td>50</td>\n",
       "      <td>4</td>\n",
       "      <td>54</td>\n",
       "      <td>0.925926</td>\n",
       "      <td>50.51%</td>\n",
       "      <td>2.37%</td>\n",
       "      <td>0.505051</td>\n",
       "      <td>0.023669</td>\n",
       "      <td>48.1</td>\n",
       "    </tr>\n",
       "    <tr>\n",
       "      <th>1</th>\n",
       "      <td>3</td>\n",
       "      <td>0.417311</td>\n",
       "      <td>0.489835</td>\n",
       "      <td>0.447439</td>\n",
       "      <td>25</td>\n",
       "      <td>28</td>\n",
       "      <td>53</td>\n",
       "      <td>0.471698</td>\n",
       "      <td>25.25%</td>\n",
       "      <td>16.57%</td>\n",
       "      <td>0.757576</td>\n",
       "      <td>0.189349</td>\n",
       "      <td>56.8</td>\n",
       "    </tr>\n",
       "    <tr>\n",
       "      <th>2</th>\n",
       "      <td>2</td>\n",
       "      <td>0.329317</td>\n",
       "      <td>0.417269</td>\n",
       "      <td>0.368271</td>\n",
       "      <td>12</td>\n",
       "      <td>42</td>\n",
       "      <td>54</td>\n",
       "      <td>0.222222</td>\n",
       "      <td>12.12%</td>\n",
       "      <td>24.85%</td>\n",
       "      <td>0.878788</td>\n",
       "      <td>0.437870</td>\n",
       "      <td>44.1</td>\n",
       "    </tr>\n",
       "    <tr>\n",
       "      <th>3</th>\n",
       "      <td>1</td>\n",
       "      <td>0.296779</td>\n",
       "      <td>0.327806</td>\n",
       "      <td>0.316757</td>\n",
       "      <td>6</td>\n",
       "      <td>44</td>\n",
       "      <td>50</td>\n",
       "      <td>0.120000</td>\n",
       "      <td>6.06%</td>\n",
       "      <td>26.04%</td>\n",
       "      <td>0.939394</td>\n",
       "      <td>0.698225</td>\n",
       "      <td>24.1</td>\n",
       "    </tr>\n",
       "    <tr>\n",
       "      <th>4</th>\n",
       "      <td>0</td>\n",
       "      <td>0.278279</td>\n",
       "      <td>0.293376</td>\n",
       "      <td>0.284429</td>\n",
       "      <td>6</td>\n",
       "      <td>51</td>\n",
       "      <td>57</td>\n",
       "      <td>0.105263</td>\n",
       "      <td>6.06%</td>\n",
       "      <td>30.18%</td>\n",
       "      <td>1.000000</td>\n",
       "      <td>1.000000</td>\n",
       "      <td>0.0</td>\n",
       "    </tr>\n",
       "  </tbody>\n",
       "</table>\n",
       "</div>"
      ],
      "text/plain": [
       "   prob_group  min_prob  max_prob  avg_prob  events  nonevents  obs  \\\n",
       "0           4  0.499820  0.604139  0.557023      50          4   54   \n",
       "1           3  0.417311  0.489835  0.447439      25         28   53   \n",
       "2           2  0.329317  0.417269  0.368271      12         42   54   \n",
       "3           1  0.296779  0.327806  0.316757       6         44   50   \n",
       "4           0  0.278279  0.293376  0.284429       6         51   57   \n",
       "\n",
       "   prop_target event_rate nonevent_rate  cum_eventrate  cum_noneventrate    KS  \n",
       "0     0.925926     50.51%         2.37%       0.505051          0.023669  48.1  \n",
       "1     0.471698     25.25%        16.57%       0.757576          0.189349  56.8  \n",
       "2     0.222222     12.12%        24.85%       0.878788          0.437870  44.1  \n",
       "3     0.120000      6.06%        26.04%       0.939394          0.698225  24.1  \n",
       "4     0.105263      6.06%        30.18%       1.000000          1.000000   0.0  "
      ]
     },
     "execution_count": 21,
     "metadata": {},
     "output_type": "execute_result"
    }
   ],
   "source": [
    "met.quantile_table(y_test,y_pred,n_quantile=5)"
   ]
  },
  {
   "cell_type": "markdown",
   "metadata": {},
   "source": [
    "# features"
   ]
  },
  {
   "cell_type": "code",
   "execution_count": 22,
   "metadata": {},
   "outputs": [
    {
     "data": {
      "image/png": "[encoded data removed]",
      "text/plain": [
       "<Figure size 864x432 with 1 Axes>"
      ]
     },
     "metadata": {
      "needs_background": "light"
     },
     "output_type": "display_data"
    }
   ],
   "source": [
    "lgb.plot_importance(gbm, figsize=(12, 6),importance_type='gain', max_num_features=20,grid=True);"
   ]
  },
  {
   "cell_type": "markdown",
   "metadata": {},
   "source": [
    "# \"mujeres y ninos primero\""
   ]
  },
  {
   "cell_type": "code",
   "execution_count": 24,
   "metadata": {},
   "outputs": [
    {
     "data": {
      "text/html": [
       "<div>\n",
       "<style scoped>\n",
       "    .dataframe tbody tr th:only-of-type {\n",
       "        vertical-align: middle;\n",
       "    }\n",
       "\n",
       "    .dataframe tbody tr th {\n",
       "        vertical-align: top;\n",
       "    }\n",
       "\n",
       "    .dataframe thead th {\n",
       "        text-align: right;\n",
       "    }\n",
       "</style>\n",
       "<table border=\"1\" class=\"dataframe\">\n",
       "  <thead>\n",
       "    <tr style=\"text-align: right;\">\n",
       "      <th></th>\n",
       "      <th>feature</th>\n",
       "      <th>importance_gain</th>\n",
       "      <th>importance_split</th>\n",
       "      <th>trn_score</th>\n",
       "    </tr>\n",
       "  </thead>\n",
       "  <tbody>\n",
       "    <tr>\n",
       "      <th>7</th>\n",
       "      <td>Sex</td>\n",
       "      <td>1049.091202</td>\n",
       "      <td>9</td>\n",
       "      <td>0.854701</td>\n",
       "    </tr>\n",
       "    <tr>\n",
       "      <th>6</th>\n",
       "      <td>Pclass</td>\n",
       "      <td>243.082998</td>\n",
       "      <td>6</td>\n",
       "      <td>0.854701</td>\n",
       "    </tr>\n",
       "    <tr>\n",
       "      <th>1</th>\n",
       "      <td>Cabin</td>\n",
       "      <td>203.940590</td>\n",
       "      <td>23</td>\n",
       "      <td>0.854701</td>\n",
       "    </tr>\n",
       "    <tr>\n",
       "      <th>3</th>\n",
       "      <td>Fare</td>\n",
       "      <td>158.580804</td>\n",
       "      <td>17</td>\n",
       "      <td>0.854701</td>\n",
       "    </tr>\n",
       "    <tr>\n",
       "      <th>2</th>\n",
       "      <td>Embarked</td>\n",
       "      <td>61.510400</td>\n",
       "      <td>6</td>\n",
       "      <td>0.854701</td>\n",
       "    </tr>\n",
       "    <tr>\n",
       "      <th>0</th>\n",
       "      <td>Age</td>\n",
       "      <td>29.967390</td>\n",
       "      <td>7</td>\n",
       "      <td>0.854701</td>\n",
       "    </tr>\n",
       "    <tr>\n",
       "      <th>4</th>\n",
       "      <td>Parch</td>\n",
       "      <td>29.108789</td>\n",
       "      <td>11</td>\n",
       "      <td>0.854701</td>\n",
       "    </tr>\n",
       "    <tr>\n",
       "      <th>5</th>\n",
       "      <td>PassengerId</td>\n",
       "      <td>25.156899</td>\n",
       "      <td>11</td>\n",
       "      <td>0.854701</td>\n",
       "    </tr>\n",
       "    <tr>\n",
       "      <th>8</th>\n",
       "      <td>SibSp</td>\n",
       "      <td>15.500560</td>\n",
       "      <td>3</td>\n",
       "      <td>0.854701</td>\n",
       "    </tr>\n",
       "    <tr>\n",
       "      <th>9</th>\n",
       "      <td>canary_1</td>\n",
       "      <td>14.776247</td>\n",
       "      <td>14</td>\n",
       "      <td>0.854701</td>\n",
       "    </tr>\n",
       "    <tr>\n",
       "      <th>10</th>\n",
       "      <td>canary_2</td>\n",
       "      <td>0.000000</td>\n",
       "      <td>0</td>\n",
       "      <td>0.854701</td>\n",
       "    </tr>\n",
       "  </tbody>\n",
       "</table>\n",
       "</div>"
      ],
      "text/plain": [
       "        feature  importance_gain  importance_split  trn_score\n",
       "7           Sex      1049.091202                 9   0.854701\n",
       "6        Pclass       243.082998                 6   0.854701\n",
       "1         Cabin       203.940590                23   0.854701\n",
       "3          Fare       158.580804                17   0.854701\n",
       "2      Embarked        61.510400                 6   0.854701\n",
       "0           Age        29.967390                 7   0.854701\n",
       "4         Parch        29.108789                11   0.854701\n",
       "5   PassengerId        25.156899                11   0.854701\n",
       "8         SibSp        15.500560                 3   0.854701\n",
       "9      canary_1        14.776247                14   0.854701\n",
       "10     canary_2         0.000000                 0   0.854701"
      ]
     },
     "execution_count": 24,
     "metadata": {},
     "output_type": "execute_result"
    }
   ],
   "source": [
    "df_imporance = met.get_importance_df(X_test,y_test,gbm)\n",
    "df_imporance.sort_values(by=['importance_gain'],ascending=False).head(20)"
   ]
  }
 ],
 "metadata": {
  "kernelspec": {
   "display_name": "Python 3",
   "language": "python",
   "name": "python3"
  },
  "language_info": {
   "codemirror_mode": {
    "name": "ipython",
    "version": 3
   },
   "file_extension": ".py",
   "mimetype": "text/x-python",
   "name": "python",
   "nbconvert_exporter": "python",
   "pygments_lexer": "ipython3",
   "version": "3.7.4"
  }
 },
 "nbformat": 4,
 "nbformat_minor": 4
}
