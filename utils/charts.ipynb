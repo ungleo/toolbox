{
 "cells": [
  {
   "cell_type": "markdown",
   "id": "53f66ca9",
   "metadata": {},
   "source": [
    "# ideas for quick charts\n",
    "Each chart should include:\n",
    "1. datasource\n",
    "2. imports\n",
    "3. code\n",
    "\n",
    "## Links\n",
    "https://seaborn.pydata.org/examples/index.html"
   ]
  },
  {
   "cell_type": "markdown",
   "id": "7a8b9a4d",
   "metadata": {},
   "source": [
    "# distribution"
   ]
  },
  {
   "cell_type": "code",
   "execution_count": 10,
   "id": "15e08f40",
   "metadata": {},
   "outputs": [],
   "source": [
    "import seaborn as sns\n",
    "tips = sns.load_dataset(\"tips\")"
   ]
  },
  {
   "cell_type": "code",
   "execution_count": 11,
   "id": "c9c038b9",
   "metadata": {},
   "outputs": [
    {
     "data": {
      "image/png": "[encoded data removed]",
      "text/plain": [
       "<Figure size 360x360 with 1 Axes>"
      ]
     },
     "metadata": {},
     "output_type": "display_data"
    }
   ],
   "source": [
    "import matplotlib.pyplot as plt # visualization \n",
    "\n",
    "sns.displot(data=tips, \n",
    "            x=\"total_bill\",  \n",
    "            fill=True,\n",
    "            stat=\"probability\",\n",
    "            common_norm=False, \n",
    "            bins=list(range(0, 30)), \n",
    "            color='#A0E8AF')\n",
    "plt.show()"
   ]
  },
  {
   "cell_type": "markdown",
   "id": "4374f5c0",
   "metadata": {},
   "source": [
    "# box plot"
   ]
  },
  {
   "cell_type": "code",
   "execution_count": 12,
   "id": "eb808b59",
   "metadata": {},
   "outputs": [],
   "source": [
    "import seaborn as sns\n",
    "tips = sns.load_dataset(\"tips\")"
   ]
  },
  {
   "cell_type": "code",
   "execution_count": 15,
   "id": "a70d8965",
   "metadata": {},
   "outputs": [
    {
     "data": {
      "image/png": "[encoded data removed]",
      "text/plain": [
       "<Figure size 432x288 with 1 Axes>"
      ]
     },
     "metadata": {},
     "output_type": "display_data"
    }
   ],
   "source": [
    "import seaborn as sns\n",
    "\n",
    "sns.set_style(\"whitegrid\")\n",
    "box_plot = sns.boxplot(x=\"day\",\n",
    "                       y=\"total_bill\",\n",
    "                       showfliers = False,\n",
    "                      #order=[\"async_collab\", \"sync_collab\"],\n",
    "                       data=tips)\n",
    "\n",
    "medians = tips.groupby(['day'])['total_bill'].median()\n",
    "vertical_offset = tips['total_bill'].median() * 0.05 # offset from median for display\n",
    "\n",
    "for xtick in box_plot.get_xticks():\n",
    "    box_plot.text(xtick,medians[xtick] + vertical_offset,medians[xtick], \n",
    "            horizontalalignment='center',size='x-small',color='w',weight='semibold')"
   ]
  },
  {
   "cell_type": "code",
   "execution_count": null,
   "id": "0021ffbc",
   "metadata": {},
   "outputs": [],
   "source": []
  }
 ],
 "metadata": {
  "kernelspec": {
   "display_name": "conda_python3",
   "language": "python",
   "name": "conda_python3"
  },
  "language_info": {
   "codemirror_mode": {
    "name": "ipython",
    "version": 3
   },
   "file_extension": ".py",
   "mimetype": "text/x-python",
   "name": "python",
   "nbconvert_exporter": "python",
   "pygments_lexer": "ipython3",
   "version": "3.6.13"
  }
 },
 "nbformat": 4,
 "nbformat_minor": 5
}
