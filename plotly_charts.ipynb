{
 "cells": [
  {
   "cell_type": "code",
   "execution_count": 2,
   "id": "3dbb4c2d",
   "metadata": {},
   "outputs": [],
   "source": [
    "# https://stackoverflow.com/questions/54064245/plot-ly-offline-mode-in-jupyter-lab-not-displaying-plots\n",
    "import plotly.io as pio\n",
    "pio.renderers.default = 'iframe' # or 'notebook' or 'colab' or 'jupyterlab'"
   ]
  },
  {
   "cell_type": "code",
   "execution_count": 12,
   "id": "8442b413",
   "metadata": {},
   "outputs": [],
   "source": [
    "import plotly.express as px\n",
    "import plotly.graph_objects as go\n",
    "from plotly.subplots import make_subplots\n",
    "import pandas as pd"
   ]
  },
  {
   "cell_type": "code",
   "execution_count": 5,
   "id": "9a5c4297",
   "metadata": {},
   "outputs": [
    {
     "data": {
      "text/html": [
       "<div>\n",
       "<style scoped>\n",
       "    .dataframe tbody tr th:only-of-type {\n",
       "        vertical-align: middle;\n",
       "    }\n",
       "\n",
       "    .dataframe tbody tr th {\n",
       "        vertical-align: top;\n",
       "    }\n",
       "\n",
       "    .dataframe thead th {\n",
       "        text-align: right;\n",
       "    }\n",
       "</style>\n",
       "<table border=\"1\" class=\"dataframe\">\n",
       "  <thead>\n",
       "    <tr style=\"text-align: right;\">\n",
       "      <th></th>\n",
       "      <th>country</th>\n",
       "      <th>continent</th>\n",
       "      <th>year</th>\n",
       "      <th>lifeExp</th>\n",
       "      <th>pop</th>\n",
       "      <th>gdpPercap</th>\n",
       "      <th>iso_alpha</th>\n",
       "      <th>iso_num</th>\n",
       "    </tr>\n",
       "  </thead>\n",
       "  <tbody>\n",
       "    <tr>\n",
       "      <th>0</th>\n",
       "      <td>Afghanistan</td>\n",
       "      <td>Asia</td>\n",
       "      <td>1952</td>\n",
       "      <td>28.801</td>\n",
       "      <td>8425333</td>\n",
       "      <td>779.445314</td>\n",
       "      <td>AFG</td>\n",
       "      <td>4</td>\n",
       "    </tr>\n",
       "    <tr>\n",
       "      <th>1</th>\n",
       "      <td>Afghanistan</td>\n",
       "      <td>Asia</td>\n",
       "      <td>1957</td>\n",
       "      <td>30.332</td>\n",
       "      <td>9240934</td>\n",
       "      <td>820.853030</td>\n",
       "      <td>AFG</td>\n",
       "      <td>4</td>\n",
       "    </tr>\n",
       "    <tr>\n",
       "      <th>2</th>\n",
       "      <td>Afghanistan</td>\n",
       "      <td>Asia</td>\n",
       "      <td>1962</td>\n",
       "      <td>31.997</td>\n",
       "      <td>10267083</td>\n",
       "      <td>853.100710</td>\n",
       "      <td>AFG</td>\n",
       "      <td>4</td>\n",
       "    </tr>\n",
       "  </tbody>\n",
       "</table>\n",
       "</div>"
      ],
      "text/plain": [
       "       country continent  year  lifeExp       pop   gdpPercap iso_alpha  \\\n",
       "0  Afghanistan      Asia  1952   28.801   8425333  779.445314       AFG   \n",
       "1  Afghanistan      Asia  1957   30.332   9240934  820.853030       AFG   \n",
       "2  Afghanistan      Asia  1962   31.997  10267083  853.100710       AFG   \n",
       "\n",
       "   iso_num  \n",
       "0        4  \n",
       "1        4  \n",
       "2        4  "
      ]
     },
     "execution_count": 5,
     "metadata": {},
     "output_type": "execute_result"
    }
   ],
   "source": [
    "df_gapminder = px.data.gapminder()"
   ]
  },
  {
   "cell_type": "markdown",
   "id": "72b8d376",
   "metadata": {},
   "source": [
    "# distribution chart (with 2 axis)"
   ]
  },
  {
   "cell_type": "code",
   "execution_count": 9,
   "id": "84b9d485",
   "metadata": {},
   "outputs": [],
   "source": [
    "df_gapminder_agrup = df_gapminder.groupby(['year']) \\\n",
    "                  .agg(pop_avg=('pop', 'mean'),\n",
    "                       lifeExp_avg=('lifeExp', 'mean')\n",
    "                      ) \\\n",
    "                  .reset_index(drop=False)"
   ]
  },
  {
   "cell_type": "code",
   "execution_count": 10,
   "id": "4ef04b14",
   "metadata": {},
   "outputs": [
    {
     "data": {
      "text/html": [
       "<div>\n",
       "<style scoped>\n",
       "    .dataframe tbody tr th:only-of-type {\n",
       "        vertical-align: middle;\n",
       "    }\n",
       "\n",
       "    .dataframe tbody tr th {\n",
       "        vertical-align: top;\n",
       "    }\n",
       "\n",
       "    .dataframe thead th {\n",
       "        text-align: right;\n",
       "    }\n",
       "</style>\n",
       "<table border=\"1\" class=\"dataframe\">\n",
       "  <thead>\n",
       "    <tr style=\"text-align: right;\">\n",
       "      <th></th>\n",
       "      <th>year</th>\n",
       "      <th>pop_avg</th>\n",
       "      <th>lifeExp_avg</th>\n",
       "    </tr>\n",
       "  </thead>\n",
       "  <tbody>\n",
       "    <tr>\n",
       "      <th>0</th>\n",
       "      <td>1952</td>\n",
       "      <td>1.695040e+07</td>\n",
       "      <td>49.057620</td>\n",
       "    </tr>\n",
       "    <tr>\n",
       "      <th>1</th>\n",
       "      <td>1957</td>\n",
       "      <td>1.876341e+07</td>\n",
       "      <td>51.507401</td>\n",
       "    </tr>\n",
       "    <tr>\n",
       "      <th>2</th>\n",
       "      <td>1962</td>\n",
       "      <td>2.042101e+07</td>\n",
       "      <td>53.609249</td>\n",
       "    </tr>\n",
       "    <tr>\n",
       "      <th>3</th>\n",
       "      <td>1967</td>\n",
       "      <td>2.265830e+07</td>\n",
       "      <td>55.678290</td>\n",
       "    </tr>\n",
       "    <tr>\n",
       "      <th>4</th>\n",
       "      <td>1972</td>\n",
       "      <td>2.518998e+07</td>\n",
       "      <td>57.647386</td>\n",
       "    </tr>\n",
       "    <tr>\n",
       "      <th>5</th>\n",
       "      <td>1977</td>\n",
       "      <td>2.767638e+07</td>\n",
       "      <td>59.570157</td>\n",
       "    </tr>\n",
       "    <tr>\n",
       "      <th>6</th>\n",
       "      <td>1982</td>\n",
       "      <td>3.020730e+07</td>\n",
       "      <td>61.533197</td>\n",
       "    </tr>\n",
       "    <tr>\n",
       "      <th>7</th>\n",
       "      <td>1987</td>\n",
       "      <td>3.303857e+07</td>\n",
       "      <td>63.212613</td>\n",
       "    </tr>\n",
       "    <tr>\n",
       "      <th>8</th>\n",
       "      <td>1992</td>\n",
       "      <td>3.599092e+07</td>\n",
       "      <td>64.160338</td>\n",
       "    </tr>\n",
       "    <tr>\n",
       "      <th>9</th>\n",
       "      <td>1997</td>\n",
       "      <td>3.883947e+07</td>\n",
       "      <td>65.014676</td>\n",
       "    </tr>\n",
       "    <tr>\n",
       "      <th>10</th>\n",
       "      <td>2002</td>\n",
       "      <td>4.145759e+07</td>\n",
       "      <td>65.694923</td>\n",
       "    </tr>\n",
       "    <tr>\n",
       "      <th>11</th>\n",
       "      <td>2007</td>\n",
       "      <td>4.402122e+07</td>\n",
       "      <td>67.007423</td>\n",
       "    </tr>\n",
       "  </tbody>\n",
       "</table>\n",
       "</div>"
      ],
      "text/plain": [
       "    year       pop_avg  lifeExp_avg\n",
       "0   1952  1.695040e+07    49.057620\n",
       "1   1957  1.876341e+07    51.507401\n",
       "2   1962  2.042101e+07    53.609249\n",
       "3   1967  2.265830e+07    55.678290\n",
       "4   1972  2.518998e+07    57.647386\n",
       "5   1977  2.767638e+07    59.570157\n",
       "6   1982  3.020730e+07    61.533197\n",
       "7   1987  3.303857e+07    63.212613\n",
       "8   1992  3.599092e+07    64.160338\n",
       "9   1997  3.883947e+07    65.014676\n",
       "10  2002  4.145759e+07    65.694923\n",
       "11  2007  4.402122e+07    67.007423"
      ]
     },
     "execution_count": 10,
     "metadata": {},
     "output_type": "execute_result"
    }
   ],
   "source": [
    "df_gapminder_agrup"
   ]
  },
  {
   "cell_type": "code",
   "execution_count": 18,
   "id": "cc358465",
   "metadata": {},
   "outputs": [
    {
     "data": {
      "text/html": [
       "<iframe\n",
       "    scrolling=\"no\"\n",
       "    width=\"100%\"\n",
       "    height=\"820\"\n",
       "    src=\"iframe_figures/figure_18.html\"\n",
       "    frameborder=\"0\"\n",
       "    allowfullscreen\n",
       "></iframe>\n"
      ]
     },
     "metadata": {},
     "output_type": "display_data"
    }
   ],
   "source": [
    "\n",
    "#print(query_to_plot.format(var=var,limit=limit))\n",
    "fig = make_subplots(specs=[[{\"secondary_y\": True}]])\n",
    "# y1 series\n",
    "fig.add_bar(x=df_gapminder_agrup.year, y=df_gapminder_agrup.pop_avg, name='pop',text=df_gapminder_agrup.pop_avg)\n",
    "# y2 series\n",
    "fig.add_trace(go.Scatter(x=df_gapminder_agrup.year, y=df_gapminder_agrup.lifeExp_avg, name=\"lifeExp_avg lifeExp_avg\"),secondary_y=True,)\n",
    "\n",
    "fig.add_hline(y=50,line_width=2, line_dash=\"dash\", line_color=\"grey\",secondary_y=True,annotation_text=\"AVG\", annotation_position=\"top left\",annotation=dict(font_size=10, font_family=\"Times New Roman\"),)  \n",
    "fig.add_annotation(x=1950, y=50,text=\"70 years\", xref=\"x\",yref=\"y2\",showarrow=True,\n",
    "                   font=dict(family=\"Courier New, monospace\",size=16,color=\"grey\"),      \n",
    "                                   align=\"center\",\n",
    "                                arrowhead=2,\n",
    "                                arrowsize=1,\n",
    "                                arrowwidth=2,\n",
    "                                arrowcolor=\"#636363\",\n",
    "                                ax=20,\n",
    "                                ay=-30,\n",
    "                                bordercolor=\"#c7c7c7\",\n",
    "                                borderwidth=2,\n",
    "                                borderpad=4,\n",
    "                                bgcolor=\"#ff7f0e\",\n",
    "                                opacity=0.8)\n",
    "fig.update_layout(height=800,title_text='chart name')\n",
    "fig.show()"
   ]
  },
  {
   "cell_type": "markdown",
   "id": "f3208e63",
   "metadata": {},
   "source": [
    "# series chart"
   ]
  },
  {
   "cell_type": "code",
   "execution_count": 20,
   "id": "20c5e2f7",
   "metadata": {},
   "outputs": [
    {
     "data": {
      "text/html": [
       "<div>\n",
       "<style scoped>\n",
       "    .dataframe tbody tr th:only-of-type {\n",
       "        vertical-align: middle;\n",
       "    }\n",
       "\n",
       "    .dataframe tbody tr th {\n",
       "        vertical-align: top;\n",
       "    }\n",
       "\n",
       "    .dataframe thead th {\n",
       "        text-align: right;\n",
       "    }\n",
       "</style>\n",
       "<table border=\"1\" class=\"dataframe\">\n",
       "  <thead>\n",
       "    <tr style=\"text-align: right;\">\n",
       "      <th></th>\n",
       "      <th>country</th>\n",
       "      <th>continent</th>\n",
       "      <th>year</th>\n",
       "      <th>lifeExp</th>\n",
       "      <th>pop</th>\n",
       "      <th>gdpPercap</th>\n",
       "      <th>iso_alpha</th>\n",
       "      <th>iso_num</th>\n",
       "    </tr>\n",
       "  </thead>\n",
       "  <tbody>\n",
       "    <tr>\n",
       "      <th>1608</th>\n",
       "      <td>United States</td>\n",
       "      <td>Americas</td>\n",
       "      <td>1952</td>\n",
       "      <td>68.44</td>\n",
       "      <td>157553000</td>\n",
       "      <td>13990.48208</td>\n",
       "      <td>USA</td>\n",
       "      <td>840</td>\n",
       "    </tr>\n",
       "    <tr>\n",
       "      <th>1609</th>\n",
       "      <td>United States</td>\n",
       "      <td>Americas</td>\n",
       "      <td>1957</td>\n",
       "      <td>69.49</td>\n",
       "      <td>171984000</td>\n",
       "      <td>14847.12712</td>\n",
       "      <td>USA</td>\n",
       "      <td>840</td>\n",
       "    </tr>\n",
       "    <tr>\n",
       "      <th>1610</th>\n",
       "      <td>United States</td>\n",
       "      <td>Americas</td>\n",
       "      <td>1962</td>\n",
       "      <td>70.21</td>\n",
       "      <td>186538000</td>\n",
       "      <td>16173.14586</td>\n",
       "      <td>USA</td>\n",
       "      <td>840</td>\n",
       "    </tr>\n",
       "  </tbody>\n",
       "</table>\n",
       "</div>"
      ],
      "text/plain": [
       "            country continent  year  lifeExp        pop    gdpPercap  \\\n",
       "1608  United States  Americas  1952    68.44  157553000  13990.48208   \n",
       "1609  United States  Americas  1957    69.49  171984000  14847.12712   \n",
       "1610  United States  Americas  1962    70.21  186538000  16173.14586   \n",
       "\n",
       "     iso_alpha  iso_num  \n",
       "1608       USA      840  \n",
       "1609       USA      840  \n",
       "1610       USA      840  "
      ]
     },
     "execution_count": 20,
     "metadata": {},
     "output_type": "execute_result"
    }
   ],
   "source": [
    "df_gapminder[df_gapminder.country=='United States'].head(3)"
   ]
  },
  {
   "cell_type": "code",
   "execution_count": 26,
   "id": "827a81f1",
   "metadata": {},
   "outputs": [
    {
     "data": {
      "text/html": [
       "<iframe\n",
       "    scrolling=\"no\"\n",
       "    width=\"100%\"\n",
       "    height=\"820\"\n",
       "    src=\"iframe_figures/figure_26.html\"\n",
       "    frameborder=\"0\"\n",
       "    allowfullscreen\n",
       "></iframe>\n"
      ]
     },
     "metadata": {},
     "output_type": "display_data"
    }
   ],
   "source": [
    "fig = go.Figure()\n",
    "fig.update_layout(\n",
    "    height=800,\n",
    "    title_text= ' metrics'\n",
    ")\n",
    "# collab\n",
    "fig.add_trace(go.Scatter(x=df_gapminder[df_gapminder.country=='United States'].year, \n",
    "                         y=df_gapminder[df_gapminder.country=='United States'].lifeExp,\n",
    "                         mode='lines+markers', \n",
    "                         name='lifeExp US.', \n",
    "                         line_color=\"green\"))\n",
    "# hybrid\n",
    "fig.add_trace(go.Scatter(x=df_gapminder[df_gapminder.country=='Germany'].year, \n",
    "                         y=df_gapminder[df_gapminder.country=='Germany'].lifeExp,\n",
    "                         mode='lines+markers', \n",
    "                         name='lifeExp Germany', \n",
    "                         line_color=\"red\"))\n",
    "\n",
    "\n",
    "# vertical line\n",
    "fig.add_vrect(x0=\"1970\", x1=\"1980\", \n",
    "              annotation_text=\"area 1\", annotation_position=\"bottom left\",\n",
    "              annotation=dict(font_size=10, font_family=\"Times New Roman\"),\n",
    "              fillcolor=\"green\", opacity=0.20, line_width=0)\n",
    "fig.add_vrect(x0=\"1999\", x1=\"2001\", \n",
    "              annotation_text=\"area 2\", annotation_position=\"bottom left\",\n",
    "              annotation=dict(font_size=10, font_family=\"Times New Roman\"),\n",
    "              fillcolor=\"green\", opacity=0.20, line_width=0)\n",
    "fig.show()"
   ]
  },
  {
   "cell_type": "markdown",
   "id": "f4a4a545",
   "metadata": {},
   "source": [
    "# Scatter with areas"
   ]
  },
  {
   "cell_type": "code",
   "execution_count": 38,
   "id": "2b24079a",
   "metadata": {},
   "outputs": [],
   "source": [
    "table=pd.read_html('https://en.wikipedia.org/wiki/List_of_S%26P_500_companies')\n",
    "sp_list = table[0]"
   ]
  },
  {
   "cell_type": "code",
   "execution_count": 32,
   "id": "da251f6c",
   "metadata": {},
   "outputs": [
    {
     "name": "stdout",
     "output_type": "stream",
     "text": [
      "Collecting pandas-datareader\n",
      "  Downloading pandas_datareader-0.10.0-py3-none-any.whl (109 kB)\n",
      "     |████████████████████████████████| 109 kB 15.3 MB/s            \n",
      "\u001b[?25hRequirement already satisfied: requests>=2.19.0 in /home/ec2-user/anaconda3/envs/tensorflow2_p36/lib/python3.6/site-packages (from pandas-datareader) (2.26.0)\n",
      "Requirement already satisfied: pandas>=0.23 in /home/ec2-user/anaconda3/envs/tensorflow2_p36/lib/python3.6/site-packages (from pandas-datareader) (1.1.5)\n",
      "Requirement already satisfied: lxml in /home/ec2-user/anaconda3/envs/tensorflow2_p36/lib/python3.6/site-packages (from pandas-datareader) (4.6.4)\n",
      "Requirement already satisfied: python-dateutil>=2.7.3 in /home/ec2-user/anaconda3/envs/tensorflow2_p36/lib/python3.6/site-packages (from pandas>=0.23->pandas-datareader) (2.8.1)\n",
      "Requirement already satisfied: pytz>=2017.2 in /home/ec2-user/anaconda3/envs/tensorflow2_p36/lib/python3.6/site-packages (from pandas>=0.23->pandas-datareader) (2021.1)\n",
      "Requirement already satisfied: numpy>=1.15.4 in /home/ec2-user/anaconda3/envs/tensorflow2_p36/lib/python3.6/site-packages (from pandas>=0.23->pandas-datareader) (1.18.5)\n",
      "Requirement already satisfied: urllib3<1.27,>=1.21.1 in /home/ec2-user/anaconda3/envs/tensorflow2_p36/lib/python3.6/site-packages (from requests>=2.19.0->pandas-datareader) (1.26.8)\n",
      "Requirement already satisfied: certifi>=2017.4.17 in /home/ec2-user/anaconda3/envs/tensorflow2_p36/lib/python3.6/site-packages (from requests>=2.19.0->pandas-datareader) (2021.5.30)\n",
      "Requirement already satisfied: charset-normalizer~=2.0.0 in /home/ec2-user/anaconda3/envs/tensorflow2_p36/lib/python3.6/site-packages (from requests>=2.19.0->pandas-datareader) (2.0.9)\n",
      "Requirement already satisfied: idna<4,>=2.5 in /home/ec2-user/anaconda3/envs/tensorflow2_p36/lib/python3.6/site-packages (from requests>=2.19.0->pandas-datareader) (3.1)\n",
      "Requirement already satisfied: six>=1.5 in /home/ec2-user/anaconda3/envs/tensorflow2_p36/lib/python3.6/site-packages (from python-dateutil>=2.7.3->pandas>=0.23->pandas-datareader) (1.15.0)\n",
      "Installing collected packages: pandas-datareader\n",
      "Successfully installed pandas-datareader-0.10.0\n",
      "Note: you may need to restart the kernel to use updated packages.\n"
     ]
    }
   ],
   "source": [
    "pip install pandas-datareader"
   ]
  },
  {
   "cell_type": "code",
   "execution_count": 54,
   "id": "53e017c0",
   "metadata": {},
   "outputs": [],
   "source": [
    "import pandas_datareader.data as web\n",
    "import datetime  \n",
    "start = datetime.datetime(2022,1,1)\n",
    "end = datetime.datetime(2022,1,31)"
   ]
  },
  {
   "cell_type": "code",
   "execution_count": 60,
   "id": "c55dd1a2",
   "metadata": {},
   "outputs": [
    {
     "name": "stdout",
     "output_type": "stream",
     "text": [
      "MMM\n",
      "AOS\n",
      "ABT\n",
      "ABBV\n",
      "ABMD\n",
      "ACN\n",
      "ATVI\n",
      "ADM\n",
      "ADBE\n",
      "ADP\n",
      "AAP\n",
      "AES\n",
      "AFL\n",
      "A\n",
      "APD\n",
      "AKAM\n",
      "ALK\n",
      "ALB\n",
      "ARE\n",
      "ALGN\n",
      "ALLE\n",
      "LNT\n",
      "ALL\n",
      "GOOGL\n",
      "GOOG\n",
      "MO\n",
      "AMZN\n",
      "AMCR\n",
      "AMD\n",
      "AEE\n",
      "AAL\n",
      "AEP\n",
      "AXP\n",
      "AIG\n",
      "AMT\n",
      "AWK\n",
      "AMP\n",
      "ABC\n",
      "AME\n",
      "AMGN\n",
      "APH\n",
      "ADI\n",
      "ANSS\n",
      "AON\n",
      "APA\n",
      "AAPL\n",
      "AMAT\n",
      "APTV\n",
      "ANET\n",
      "AJG\n"
     ]
    }
   ],
   "source": [
    "df_sp_500 = pd.DataFrame()\n",
    "for s in range(0,50):\n",
    "    print (sp_list.Symbol[s])\n",
    "    df_downloard = web.DataReader(sp_list.Symbol[s],\"yahoo\",start,end)\n",
    "    df_downloard['symbol'] = sp_list.Symbol[s]\n",
    "    df_sp_500 = df_sp_500.append(df_downloard)"
   ]
  },
  {
   "cell_type": "code",
   "execution_count": 51,
   "id": "b7e073ef",
   "metadata": {},
   "outputs": [
    {
     "data": {
      "text/html": [
       "<div>\n",
       "<style scoped>\n",
       "    .dataframe tbody tr th:only-of-type {\n",
       "        vertical-align: middle;\n",
       "    }\n",
       "\n",
       "    .dataframe tbody tr th {\n",
       "        vertical-align: top;\n",
       "    }\n",
       "\n",
       "    .dataframe thead th {\n",
       "        text-align: right;\n",
       "    }\n",
       "</style>\n",
       "<table border=\"1\" class=\"dataframe\">\n",
       "  <thead>\n",
       "    <tr style=\"text-align: right;\">\n",
       "      <th></th>\n",
       "      <th>High</th>\n",
       "      <th>Low</th>\n",
       "      <th>Open</th>\n",
       "      <th>Close</th>\n",
       "      <th>Volume</th>\n",
       "      <th>Adj Close</th>\n",
       "      <th>symbol</th>\n",
       "    </tr>\n",
       "    <tr>\n",
       "      <th>Date</th>\n",
       "      <th></th>\n",
       "      <th></th>\n",
       "      <th></th>\n",
       "      <th></th>\n",
       "      <th></th>\n",
       "      <th></th>\n",
       "      <th></th>\n",
       "    </tr>\n",
       "  </thead>\n",
       "  <tbody>\n",
       "    <tr>\n",
       "      <th>2022-01-03</th>\n",
       "      <td>179.089996</td>\n",
       "      <td>175.839996</td>\n",
       "      <td>178.320007</td>\n",
       "      <td>177.740005</td>\n",
       "      <td>1930700.0</td>\n",
       "      <td>174.277115</td>\n",
       "      <td>MMM</td>\n",
       "    </tr>\n",
       "    <tr>\n",
       "      <th>2022-01-04</th>\n",
       "      <td>181.259995</td>\n",
       "      <td>178.029999</td>\n",
       "      <td>178.479996</td>\n",
       "      <td>180.229996</td>\n",
       "      <td>2522200.0</td>\n",
       "      <td>176.718582</td>\n",
       "      <td>MMM</td>\n",
       "    </tr>\n",
       "    <tr>\n",
       "      <th>2022-01-05</th>\n",
       "      <td>181.779999</td>\n",
       "      <td>177.000000</td>\n",
       "      <td>177.130005</td>\n",
       "      <td>179.490005</td>\n",
       "      <td>2952400.0</td>\n",
       "      <td>175.993027</td>\n",
       "      <td>MMM</td>\n",
       "    </tr>\n",
       "  </tbody>\n",
       "</table>\n",
       "</div>"
      ],
      "text/plain": [
       "                  High         Low        Open       Close     Volume  \\\n",
       "Date                                                                    \n",
       "2022-01-03  179.089996  175.839996  178.320007  177.740005  1930700.0   \n",
       "2022-01-04  181.259995  178.029999  178.479996  180.229996  2522200.0   \n",
       "2022-01-05  181.779999  177.000000  177.130005  179.490005  2952400.0   \n",
       "\n",
       "             Adj Close symbol  \n",
       "Date                           \n",
       "2022-01-03  174.277115    MMM  \n",
       "2022-01-04  176.718582    MMM  \n",
       "2022-01-05  175.993027    MMM  "
      ]
     },
     "execution_count": 51,
     "metadata": {},
     "output_type": "execute_result"
    }
   ],
   "source": [
    "df_sp_500.head(3)"
   ]
  },
  {
   "cell_type": "code",
   "execution_count": 61,
   "id": "91921c40",
   "metadata": {},
   "outputs": [],
   "source": [
    "df_sp_500_agrup =  df_sp_500.groupby(['symbol']) \\\n",
    "                  .agg(Volume_avg=('Volume', 'mean'),\n",
    "                       Close_avg=('Close', 'mean')\n",
    "                      ) \\\n",
    "                  .reset_index(drop=False)"
   ]
  },
  {
   "cell_type": "code",
   "execution_count": 66,
   "id": "46e2093a",
   "metadata": {},
   "outputs": [],
   "source": [
    "df_sp_500_agrup = df_sp_500_agrup[(df_sp_500_agrup.Volume_avg<10000000)&(df_sp_500_agrup.Close_avg<500)]"
   ]
  },
  {
   "cell_type": "code",
   "execution_count": 67,
   "id": "54572824",
   "metadata": {},
   "outputs": [
    {
     "data": {
      "text/html": [
       "<iframe\n",
       "    scrolling=\"no\"\n",
       "    width=\"100%\"\n",
       "    height=\"1020\"\n",
       "    src=\"iframe_figures/figure_67.html\"\n",
       "    frameborder=\"0\"\n",
       "    allowfullscreen\n",
       "></iframe>\n"
      ]
     },
     "metadata": {},
     "output_type": "display_data"
    }
   ],
   "source": [
    "# with areas\n",
    "fig = px.scatter(df_sp_500_agrup, x=\"Volume_avg\", y=\"Close_avg\", text=\"symbol\", color=\"symbol\", symbol=\"symbol\")\n",
    "fig.update_traces(textposition='top center')\n",
    "\n",
    "# Add shapes (red square)\n",
    "fig.add_shape(type=\"rect\", xref=\"x\", yref=\"y\",\n",
    "    x0=6000000, y0=0,\n",
    "    x1=10000000, y1=200,\n",
    "     fillcolor=\"red\", opacity=0.5,layer=\"below\", line_width=0)\n",
    "# Add shapes (yellow square)\n",
    "fig.add_shape(type=\"rect\", xref=\"x\", yref=\"y\",\n",
    "    x0=2000000, y0=0,\n",
    "    x1=6000000, y1=300,\n",
    "     fillcolor=\"Yellow\", opacity=0.5,layer=\"below\", line_width=0)\n",
    "\n",
    "fig.update_layout(\n",
    "    height=1000,\n",
    "    title_text='close price & volume January 2022 sp500',\n",
    "    #plot_bgcolor='LightGreen'\n",
    ")\n",
    "fig.show()"
   ]
  },
  {
   "cell_type": "code",
   "execution_count": null,
   "id": "4135f5cf",
   "metadata": {},
   "outputs": [],
   "source": []
  }
 ],
 "metadata": {
  "kernelspec": {
   "display_name": "conda_tensorflow2_p36",
   "language": "python",
   "name": "conda_tensorflow2_p36"
  },
  "language_info": {
   "codemirror_mode": {
    "name": "ipython",
    "version": 3
   },
   "file_extension": ".py",
   "mimetype": "text/x-python",
   "name": "python",
   "nbconvert_exporter": "python",
   "pygments_lexer": "ipython3",
   "version": "3.6.13"
  }
 },
 "nbformat": 4,
 "nbformat_minor": 5
}
